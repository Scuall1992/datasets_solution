{
 "cells": [
  {
   "cell_type": "markdown",
   "metadata": {},
   "source": [
    "Init spark session and needed functions to make a similarity checks using ML model"
   ]
  },
  {
   "cell_type": "code",
   "execution_count": 1,
   "metadata": {},
   "outputs": [
    {
     "name": "stderr",
     "output_type": "stream",
     "text": [
      "Setting default log level to \"WARN\".\n",
      "To adjust logging level use sc.setLogLevel(newLevel). For SparkR, use setLogLevel(newLevel).\n",
      "23/10/30 11:52:26 WARN NativeCodeLoader: Unable to load native-hadoop library for your platform... using builtin-java classes where applicable\n",
      "23/10/30 11:52:27 WARN Utils: Service 'SparkUI' could not bind on port 4040. Attempting port 4041.\n"
     ]
    }
   ],
   "source": [
    "import findspark\n",
    "findspark.init()\n",
    "\n",
    "from pyspark import SparkContext\n",
    "from pyspark.sql import SparkSession\n",
    "from pyspark.sql import functions as F\n",
    "\n",
    "\n",
    "sc = SparkContext(appName=\"MyApp2\")\n",
    "spark = (\n",
    "    SparkSession.builder \n",
    "    .master('local[*]') \n",
    "    .config('spark.executor.memory','5g')\n",
    "    .config('spark.driver.memory', '3g')\n",
    "    .config(\"spark.driver.maxResultSize\", \"2g\")\n",
    "    .getOrCreate()\n",
    ")\n",
    "\n",
    "\n",
    "import warnings\n",
    "warnings.filterwarnings(\"ignore\") \n",
    "\n",
    "from sentence_transformers import SentenceTransformer, util\n",
    "model = SentenceTransformer('sentence-transformers/all-mpnet-base-v2')\n",
    "\n",
    "def get_vector(a, b):\n",
    "    if not a or not b:\n",
    "        return 0.0\n",
    "\n",
    "    emb1 = model.encode(a, convert_to_tensor=True)\n",
    "    emb2 = model.encode(b, convert_to_tensor=True)\n",
    "    torch = util.pytorch_cos_sim(emb1, emb2)\n",
    "    return float(torch[0][0])\n",
    "\n"
   ]
  },
  {
   "cell_type": "code",
   "execution_count": 2,
   "metadata": {},
   "outputs": [],
   "source": [
    "\n",
    "from sentence_transformers import SentenceTransformer, util\n",
    "model = SentenceTransformer('sentence-transformers/all-mpnet-base-v2')\n",
    "\n",
    "broad_model = sc.broadcast(model)\n",
    "\n",
    "def get_vector(partitionData):\n",
    "    updatedData = []\n",
    "    for row in partitionData:\n",
    "        emb1 = broad_model.value.encode(row[\"fb_name\"], convert_to_tensor=True)\n",
    "        emb2 = broad_model.value.encode(row[\"gg_name\"], convert_to_tensor=True)\n",
    "        torch = util.pytorch_cos_sim(emb1, emb2)\n",
    "        updatedData.append([*row, float(torch[0][0])])\n",
    "    return iter(updatedData)\n",
    "\n",
    "\n"
   ]
  },
  {
   "cell_type": "code",
   "execution_count": 3,
   "metadata": {},
   "outputs": [
    {
     "name": "stderr",
     "output_type": "stream",
     "text": [
      "                                                                                \r"
     ]
    }
   ],
   "source": [
    "fb_df_clean = spark.read.parquet(\"fb_df\")\n",
    "gg_df_clean = spark.read.parquet(\"gg_df\")\n",
    "wb_df_clean = spark.read.parquet(\"wb_df\")"
   ]
  },
  {
   "cell_type": "code",
   "execution_count": 4,
   "metadata": {},
   "outputs": [
    {
     "name": "stderr",
     "output_type": "stream",
     "text": [
      "/Users/andrei_pak/.pyenv/versions/3.10.10/lib/python3.10/multiprocessing/resource_tracker.py:224: UserWarning: resource_tracker: There appear to be 1 leaked semaphore objects to clean up at shutdown\n",
      "  warnings.warn('resource_tracker: There appear to be %d '\n",
      "/Users/andrei_pak/.pyenv/versions/3.10.10/lib/python3.10/multiprocessing/resource_tracker.py:224: UserWarning: resource_tracker: There appear to be 1 leaked semaphore objects to clean up at shutdown\n",
      "  warnings.warn('resource_tracker: There appear to be %d '\n",
      "/Users/andrei_pak/.pyenv/versions/3.10.10/lib/python3.10/multiprocessing/resource_tracker.py:224: UserWarning: resource_tracker: There appear to be 1 leaked semaphore objects to clean up at shutdown\n",
      "  warnings.warn('resource_tracker: There appear to be %d '\n",
      "/Users/andrei_pak/.pyenv/versions/3.10.10/lib/python3.10/multiprocessing/resource_tracker.py:224: UserWarning: resource_tracker: There appear to be 1 leaked semaphore objects to clean up at shutdown\n",
      "  warnings.warn('resource_tracker: There appear to be %d '\n",
      "[Stage 5:==================================================>        (6 + 1) / 7]\r"
     ]
    },
    {
     "name": "stdout",
     "output_type": "stream",
     "text": [
      "13785\n"
     ]
    },
    {
     "name": "stderr",
     "output_type": "stream",
     "text": [
      "                                                                                \r"
     ]
    },
    {
     "name": "stderr",
     "output_type": "stream",
     "text": [
      "/Users/andrei_pak/.pyenv/versions/3.10.10/lib/python3.10/multiprocessing/resource_tracker.py:224: UserWarning: resource_tracker: There appear to be 1 leaked semaphore objects to clean up at shutdown\n",
      "  warnings.warn('resource_tracker: There appear to be %d '\n",
      "/Users/andrei_pak/.pyenv/versions/3.10.10/lib/python3.10/multiprocessing/resource_tracker.py:224: UserWarning: resource_tracker: There appear to be 1 leaked semaphore objects to clean up at shutdown\n",
      "  warnings.warn('resource_tracker: There appear to be %d '\n",
      "/Users/andrei_pak/.pyenv/versions/3.10.10/lib/python3.10/multiprocessing/resource_tracker.py:224: UserWarning: resource_tracker: There appear to be 1 leaked semaphore objects to clean up at shutdown\n",
      "  warnings.warn('resource_tracker: There appear to be %d '\n"
     ]
    }
   ],
   "source": [
    "\n",
    "fb_gg_cross = fb_df_clean.crossJoin(gg_df_clean)\n",
    "\n",
    "cross_cat = fb_gg_cross.filter(F.col(\"fb_category\") == F.col(\"gg_category\"))\n",
    "cross_cat_country = cross_cat.filter(F.col(\"fb_country_name\") == F.col(\"gg_country_name\"))\n",
    "cross_cat_country_city = cross_cat_country.filter(F.col(\"fb_city\") == F.col(\"gg_city\"))\n",
    "cross_cat_country_city_dom = cross_cat_country_city.filter(F.col(\"fb_domain\") == F.col(\"gg_domain\"))\n",
    "cross_cat_country_city_dom_phone = cross_cat_country_city_dom.filter(F.col(\"fb_phone\") == F.col(\"gg_phone\"))\n",
    "\n",
    "# cross_cat_country_city_dom_phone_vec = cross_cat_country_city_dom_phone.withColumn(\"vector\", F.lit(get_vector_udf(F.col(\"fb_name\"), F.col(\"gg_name\"))))\n",
    "\n",
    "cross_cat_country_city_dom_phone_vec = cross_cat_country_city_dom_phone.rdd.mapPartitions(get_vector).toDF(cross_cat_country_city_dom_phone.columns + [\"vector\"])\n",
    "\n",
    "print(cross_cat_country_city_dom_phone_vec.count())"
   ]
  },
  {
   "cell_type": "code",
   "execution_count": 37,
   "metadata": {},
   "outputs": [
    {
     "name": "stderr",
     "output_type": "stream",
     "text": [
      "                                                                                \r"
     ]
    },
    {
     "data": {
      "text/plain": [
       "9099"
      ]
     },
     "execution_count": 37,
     "metadata": {},
     "output_type": "execute_result"
    },
    {
     "name": "stderr",
     "output_type": "stream",
     "text": [
      "/Users/andrei_pak/.pyenv/versions/3.10.10/lib/python3.10/multiprocessing/resource_tracker.py:224: UserWarning: resource_tracker: There appear to be 1 leaked semaphore objects to clean up at shutdown\n",
      "  warnings.warn('resource_tracker: There appear to be %d '\n"
     ]
    }
   ],
   "source": [
    "cross_cat_country_city_dom_phone_vec.filter(F.col(\"vector\") > 0.9).count()"
   ]
  },
  {
   "cell_type": "code",
   "execution_count": null,
   "metadata": {},
   "outputs": [],
   "source": [
    "cross_cat_country_city_dom_phone_vec.filter(F.col(\"vector\") > 0.9).show()"
   ]
  },
  {
   "cell_type": "markdown",
   "metadata": {},
   "source": [
    "Read the datasets"
   ]
  },
  {
   "cell_type": "code",
   "execution_count": null,
   "metadata": {},
   "outputs": [],
   "source": [
    "import random\n",
    "from pyspark.sql.types import StructField, DoubleType, StructType\n",
    "\n",
    "import warnings\n",
    "import pandas as pd\n",
    "\n",
    "# Suppress FutureWarning about iteritems\n",
    "warnings.simplefilter(action='ignore', category=FutureWarning)\n",
    "\n",
    "i = 1\n",
    "\n",
    "while True:\n",
    "    fraction = 0.002\n",
    "\n",
    "    fb_df = fb_df_clean.sample(withReplacement=True, fraction=fraction*2, seed=random.randint(1, 100000))\n",
    "    gg_df = gg_df_clean.sample(withReplacement=True, fraction=fraction, seed=random.randint(1, 100000))\n",
    "\n",
    "    fb_gg_cross = fb_df.crossJoin(gg_df)\n",
    "\n",
    "    schema = StructType(fb_gg_cross.schema.fields + [StructField(\"vector\", DoubleType())])\n",
    "\n",
    "    fb_gg_cross_vec = fb_gg_cross.toPandas()\n",
    "\n",
    "    fb_gg_cross_vec[\"vector\"] = fb_gg_cross_vec.apply(lambda x: get_vector(x[\"fb_name\"], x[\"gg_name\"]), axis=1)\n",
    "\n",
    "    df = spark.createDataFrame(fb_gg_cross_vec, schema)\n",
    "\n",
    "    if df.filter(F.col(\"vector\") > 0.8).count() > 0:\n",
    "        print(fb_df.count())\n",
    "        print(gg_df.count())\n",
    "        df.filter(F.col(\"vector\") > 0.8).show(200, truncate=False)\n",
    "        i += 1\n",
    "\n",
    "        if i == 10:\n",
    "            break\n",
    "\n",
    "    fraction += 0.0001\n"
   ]
  },
  {
   "cell_type": "code",
   "execution_count": null,
   "metadata": {},
   "outputs": [],
   "source": [
    "cross = fb_df_clean.crossJoin(gg_df_clean)\n",
    "\n",
    "# print(cross.count())\n",
    "\n",
    "# cross.show(5, truncate=False)"
   ]
  },
  {
   "cell_type": "code",
   "execution_count": null,
   "metadata": {},
   "outputs": [
    {
     "name": "stderr",
     "output_type": "stream",
     "text": [
      "[Stage 40:========>                                                 (1 + 6) / 7]\r"
     ]
    },
    {
     "name": "stdout",
     "output_type": "stream",
     "text": [
      "111251\n"
     ]
    },
    {
     "name": "stderr",
     "output_type": "stream",
     "text": [
      "                                                                                \r"
     ]
    }
   ],
   "source": [
    "cross_cat = cross.filter(F.col(\"fb_category\") == F.col(\"gg_category\"))\n",
    "cross_cat_dom = cross_cat.filter(F.col(\"fb_domain\") == F.col(\"gg_domain\"))\n",
    "print(cross_cat_dom.count())"
   ]
  },
  {
   "cell_type": "code",
   "execution_count": null,
   "metadata": {},
   "outputs": [
    {
     "name": "stderr",
     "output_type": "stream",
     "text": [
      "[Stage 44:========================>                                 (3 + 4) / 7]\r"
     ]
    },
    {
     "name": "stdout",
     "output_type": "stream",
     "text": [
      "42536979\n"
     ]
    },
    {
     "name": "stderr",
     "output_type": "stream",
     "text": [
      "                                                                                \r"
     ]
    }
   ],
   "source": [
    "cross_cat = cross.filter(F.col(\"fb_category\") == F.col(\"gg_category\"))\n",
    "cross_cat_country = cross_cat.filter(F.col(\"fb_country_name\") == F.col(\"gg_country_name\"))\n",
    "print(cross_cat_country.count())"
   ]
  },
  {
   "cell_type": "code",
   "execution_count": null,
   "metadata": {},
   "outputs": [
    {
     "name": "stdout",
     "output_type": "stream",
     "text": [
      "677073\n"
     ]
    }
   ],
   "source": [
    "cross_cat = cross.filter(F.col(\"fb_category\") == F.col(\"gg_category\"))\n",
    "cross_cat_city = cross_cat.filter(F.col(\"fb_city\") == F.col(\"gg_city\"))\n",
    "print(cross_cat_city.count())"
   ]
  },
  {
   "cell_type": "code",
   "execution_count": null,
   "metadata": {},
   "outputs": [
    {
     "name": "stderr",
     "output_type": "stream",
     "text": [
      "                                                                                \r"
     ]
    },
    {
     "name": "stdout",
     "output_type": "stream",
     "text": [
      "13785\n"
     ]
    }
   ],
   "source": [
    "cross_cat = cross.filter(F.col(\"fb_category\") == F.col(\"gg_category\"))\n",
    "cross_cat_country = cross_cat.filter(F.col(\"fb_country_name\") == F.col(\"gg_country_name\"))\n",
    "cross_cat_country_city = cross_cat_country.filter(F.col(\"fb_city\") == F.col(\"gg_city\"))\n",
    "cross_cat_country_city_dom = cross_cat_country_city.filter(F.col(\"fb_domain\") == F.col(\"gg_domain\"))\n",
    "cross_cat_country_city_dom_phone = cross_cat_country_city_dom.filter(F.col(\"fb_phone\") == F.col(\"gg_phone\"))\n",
    "print(cross_cat_country_city_dom_phone.count())"
   ]
  },
  {
   "cell_type": "code",
   "execution_count": null,
   "metadata": {},
   "outputs": [
    {
     "name": "stdout",
     "output_type": "stream",
     "text": [
      "23647\n"
     ]
    }
   ],
   "source": [
    "cross_cat = cross.filter(F.col(\"fb_category\") == F.col(\"gg_category\"))\n",
    "cross_cat_country = cross_cat.filter(F.col(\"fb_country_name\") == F.col(\"gg_country_name\"))\n",
    "cross_cat_country_city = cross_cat_country.filter(F.col(\"fb_city\") == F.col(\"gg_city\"))\n",
    "cross_cat_country_city_dom = cross_cat_country_city.filter(F.col(\"fb_domain\") == F.col(\"gg_domain\"))\n",
    "print(cross_cat_country_city_dom.count())"
   ]
  },
  {
   "cell_type": "code",
   "execution_count": null,
   "metadata": {},
   "outputs": [
    {
     "name": "stderr",
     "output_type": "stream",
     "text": [
      "[Stage 60:=================================>                        (4 + 3) / 7]\r"
     ]
    },
    {
     "name": "stdout",
     "output_type": "stream",
     "text": [
      "58281985\n"
     ]
    },
    {
     "name": "stderr",
     "output_type": "stream",
     "text": [
      "                                                                                \r"
     ]
    }
   ],
   "source": [
    "cross_cat = cross.filter(F.col(\"fb_category\") == F.col(\"gg_category\"))\n",
    "cross_cat_country = cross_cat.filter(F.col(\"fb_country_code\") == F.col(\"gg_country_code\"))\n",
    "print(cross_cat_country.count())"
   ]
  },
  {
   "cell_type": "code",
   "execution_count": null,
   "metadata": {},
   "outputs": [
    {
     "name": "stdout",
     "output_type": "stream",
     "text": [
      "10799200\n"
     ]
    }
   ],
   "source": [
    "cross_cat = cross.filter(F.col(\"fb_category\") == F.col(\"gg_category\"))\n",
    "cross_cat_country = cross_cat.filter(F.col(\"fb_region_code\") == F.col(\"gg_region_code\"))\n",
    "print(cross_cat_country.count())"
   ]
  },
  {
   "cell_type": "code",
   "execution_count": null,
   "metadata": {},
   "outputs": [
    {
     "name": "stdout",
     "output_type": "stream",
     "text": [
      "10755307\n"
     ]
    }
   ],
   "source": [
    "cross_cat = cross.filter(F.col(\"fb_category\") == F.col(\"gg_category\"))\n",
    "cross_cat_region = cross_cat.filter(F.col(\"fb_region_name\") == F.col(\"gg_region_name\"))\n",
    "print(cross_cat_region.count())"
   ]
  },
  {
   "cell_type": "code",
   "execution_count": null,
   "metadata": {},
   "outputs": [
    {
     "name": "stderr",
     "output_type": "stream",
     "text": [
      "[Stage 72:=================================================>        (6 + 1) / 7]\r"
     ]
    },
    {
     "name": "stdout",
     "output_type": "stream",
     "text": [
      "3133129396\n"
     ]
    },
    {
     "name": "stderr",
     "output_type": "stream",
     "text": [
      "                                                                                \r"
     ]
    }
   ],
   "source": [
    "cross_cat_region = cross.filter(F.col(\"fb_region_name\") == F.col(\"gg_region_name\"))\n",
    "cross_cat_region = cross_cat_region.filter(F.col(\"fb_region_name\").isNotNull())\n",
    "print(cross_cat_region.count())"
   ]
  },
  {
   "cell_type": "code",
   "execution_count": null,
   "metadata": {},
   "outputs": [
    {
     "name": "stdout",
     "output_type": "stream",
     "text": [
      "22274\n"
     ]
    }
   ],
   "source": [
    "cross_cat = cross.filter(F.col(\"fb_category\") == F.col(\"gg_category\"))\n",
    "cross_cat_phone = cross_cat.filter(F.col(\"fb_phone\") == F.col(\"gg_phone\"))\n",
    "print(cross_cat_phone.count())"
   ]
  },
  {
   "cell_type": "code",
   "execution_count": null,
   "metadata": {},
   "outputs": [
    {
     "name": "stdout",
     "output_type": "stream",
     "text": [
      "147943\n"
     ]
    }
   ],
   "source": [
    "cross_cat_phone = cross.filter(F.col(\"fb_phone\") == F.col(\"gg_phone\"))\n",
    "print(cross_cat_phone.count())"
   ]
  },
  {
   "cell_type": "code",
   "execution_count": null,
   "metadata": {},
   "outputs": [
    {
     "name": "stdout",
     "output_type": "stream",
     "text": [
      "22274\n"
     ]
    },
    {
     "name": "stderr",
     "output_type": "stream",
     "text": [
      "                                                                                \r"
     ]
    },
    {
     "name": "stdout",
     "output_type": "stream",
     "text": [
      "23/10/29 08:26:46 WARN TaskSetManager: Stage 53 contains a task of very large size (1159 KiB). The maximum recommended task size is 1000 KiB.\n"
     ]
    },
    {
     "name": "stderr",
     "output_type": "stream",
     "text": [
      "                                                                                \r"
     ]
    },
    {
     "name": "stdout",
     "output_type": "stream",
     "text": [
      "23/10/29 08:26:47 WARN TaskSetManager: Stage 56 contains a task of very large size (1159 KiB). The maximum recommended task size is 1000 KiB.\n",
      "17170\n",
      "+----------------------------+----------------------------------------------------------------------------------+------------+---------------+---------------+--------------------------------------------+-----------+--------------+----------------+-----------+----------------------+----------------------------+---------------------------------------------------------------+----------------------+-------------+---------------+---------------+-----------------------------------------+-----------+--------------+----------------+-----------+-------------------------------------------------------------------+------------------+\n",
      "|fb_domain                   |fb_address                                                                        |fb_city     |fb_country_code|fb_country_name|fb_name                                     |fb_phone   |fb_region_code|fb_region_name  |fb_zip_code|fb_category           |gg_domain                   |gg_address                                                     |gg_category           |gg_city      |gg_country_code|gg_country_name|gg_name                                  |gg_phone   |gg_region_code|gg_region_name  |gg_zip_code|gg_raw_address                                                     |vector            |\n",
      "+----------------------------+----------------------------------------------------------------------------------+------------+---------------+---------------+--------------------------------------------+-----------+--------------+----------------+-----------+----------------------+----------------------------+---------------------------------------------------------------+----------------------+-------------+---------------+---------------+-----------------------------------------+-----------+--------------+----------------+-----------+-------------------------------------------------------------------+------------------+\n",
      "|meridianfuels.ca            |10 highway 11 south, p0l 1c0, cochrane, on, canada, ontario                       |cochrane    |ca             |canada         |meridian fuels                              |18885243835|on            |ontario         |p0l 1c0    |distribution          |meridianfuels.ca            |10 on-11, cochrane, on p0l 1c0, canada                         |distribution          |cochrane     |ca             |canada         |meridian fuels                           |18885243835|on            |ontario         |p0l 1c0    |cochrane, on, canada                                               |0.9999998807907104|\n",
      "|rocklandford.ca             |2900 laurier st., k4k 1l9, rockland, on, canada, ontario                          |rockland    |ca             |canada         |rockland ford sales ltd                     |16134466464|on            |ontario         |k4k 1l9    |automobile dealers    |rocklandford.ca             |2900 laurier st, rockland, on k4k 1a3, canada                  |automobile dealers    |rockland     |ca             |canada         |rockland ford sales ltd                  |16134466464|on            |ontario         |k4k 1a3    |7+ years in business · rockland, on, canada                        |0.9999998807907104|\n",
      "|melilloarchitects.ca        |2938a bloor street west, m8x 1b6, toronto, on, canada, ontario                    |null        |ca             |null           |melillo architects incorporated             |14163684225|null          |null            |null       |architectural services|melilloarchitects.ca        |2938a bloor st w, etobicoke, on m8x 1b6, canada                |architectural services|etobicoke    |ca             |canada         |melillo architects incorporated          |14163684225|on            |ontario         |m8x 1b6    |7+ years in business · etobicoke, on, canada                       |1.0000001192092896|\n",
      "|rebeccamitchellinteriors.com|null                                                                              |null        |ca             |null           |rmi - rebecca mitchell interiors            |15146740890|null          |null            |null       |decorators            |rebeccamitchellinteriors.com|pointe-claire, quebec, canada                                  |decorators            |pointe-claire|ca             |canada         |rebecca mitchell interiors               |15146740890|qc            |quebec          |null       |pointe-claire, quebec, canada                                      |0.8905031681060791|\n",
      "|kbaughcpa.com               |4012 gateway drive, ste 110, 76034, colleyville, tx, texas                        |colleyville |us             |united states  |keith baugh, cpa, pc                        |18173589300|tx            |texas           |76034      |accounting            |kbaughcpa.com               |4012 gateway dr suite 110, colleyville, tx 76034, united states|accounting            |colleyville  |us             |united states  |keith baugh, cpa, pc                     |18173589300|tx            |texas           |76034      |7+ years in business · colleyville, tx, united states              |1.000000238418579 |\n",
      "|casamericarealestate.com    |3038 ps business center dr, 22192, woodbridge, va, virginia                       |woodbridge  |us             |united states  |casamerica real estate                      |17034904422|va            |virginia        |22192      |real estate - agents  |casamericarealestate.com    |3038 ps business center dr, woodbridge, va 22192               |real estate - agents  |woodbridge   |us             |united states  |casamerica real estate                   |17034904422|va            |virginia        |22192      |7+ years in business · woodbridge, va · in great oaks business park|0.9999998807907104|\n",
      "|yvessicardautos.com         |599 boulevard ste-madeleine local 101, g8t 9j8, trois-rivières, qc, canada, quebec|null        |ca             |null           |yves sicard automobiles                     |18196930677|null          |null            |null       |automobile dealers    |yvessicardautos.com         |599 boulevard ste madeleine                                    |automobile dealers    |null         |ca             |null           |automobile yves sicard                   |18196930677|null          |null            |null       |599 boulevard ste madeleine                                        |0.9330018162727356|\n",
      "|electrician2go.ca           |23-19180,  65th street, v4n 6m5, surrey, bc, canada, british columbia             |null        |ca             |null           |reisinger electric                          |17788857074|null          |null            |null       |wiring contractors    |electrician2go.ca           |chilliwack, bc, canada                                         |wiring contractors    |chilliwack   |ca             |canada         |reisinger electric services              |17788857074|bc            |british columbia|null       |chilliwack, bc, canada                                             |0.8363454937934875|\n",
      "|ckfr.org                    |5300 nw newberry hill rd, 98383, silverdale, wa, washington                       |silverdale  |us             |united states  |central kitsap fire & rescue - official site|13604473550|wa            |washington      |98383      |fire departments      |ckfr.org                    |10955 silverdale way nw, silverdale, wa 98383                  |fire departments      |silverdale   |us             |united states  |central kitsap fire and rescue station 51|13604473550|wa            |washington      |98383      |silverdale, wa                                                     |0.8660122752189636|\n",
      "|ontapeventservices.ca       |null                                                                              |null        |ca             |null           |on tap event services                       |12047921810|null          |null            |null       |party planners        |ontapeventservices.ca       |676 elizabeth rd, winnipeg, mb r2j 1a4, canada                 |party planners        |winnipeg     |ca             |canada         |on tap event services                    |12047921810|mb            |manitoba        |r2j 1a4    |676 elizabeth rd                                                   |1.0000001192092896|\n",
      "|valleywoodlandscaping.com   |313 sunnyridge road, l0r 1r0, ancaster, on, canada, ontario                       |ancaster    |ca             |canada         |valleywood landscaping inc.                 |19053046847|on            |ontario         |1r0        |landscaping           |valleywoodlandscaping.com   |7+ years in business · jerseyville, on, canada                 |landscaping           |jerseyville  |ca             |canada         |valleywood landscaping                   |19053046847|on            |ontario         |null       |7+ years in business · jerseyville, on, canada                     |0.8450969457626343|\n",
      "|theautoshow.ca              |12525 highway 50, l7e 1m4, bolton, on, canada, ontario                            |bolton      |ca             |canada         |the auto show                               |14162664111|on            |ontario         |l7e 1m4    |manufacturers         |theautoshow.ca              |12525 hwy 50 n, bolton, on l7e 1m4, canada                     |manufacturers         |bolton       |ca             |canada         |the auto show inc                        |14162664111|on            |ontario         |l7e 1m4    |bolton, on, canada                                                 |0.8195891380310059|\n",
      "|cottonwoodcoulee.golf       |3245 - 10th avenue s.w., t1b 4b3, medicine hat, ab, canada, alberta               |medicine hat|ca             |canada         |cottonwood coulee golf course               |14035291010|ab            |alberta         |t1b 4b3    |country clubs         |cottonwoodcoulee.golf       |3245 10 ave sw, medicine hat, ab t1b 4b3, canada               |country clubs         |medicine hat |ca             |canada         |cottonwood coulee golf course            |14035291010|ab            |alberta         |t1b 4b3    |3245 10 ave sw                                                     |1.0               |\n",
      "|ecuad.ca                    |520 east 1st avenue, v5t 0h2, vancouver, bc, canada, british columbia             |vancouver   |ca             |canada         |emily carr university of art + design       |16048443800|bc            |british columbia|null       |universities          |ecuad.ca                    |vancouver, bc, canada                                          |universities          |vancouver    |ca             |canada         |emily carr university of art + design    |16048443800|bc            |british columbia|null       |vancouver, bc, canada                                              |1.0               |\n",
      "|peakmedicalgroup.ca         |3101 19605 walden blvd se, t2x 4c3, calgary, ab, canada, alberta                  |calgary     |ca             |canada         |peak medical group                          |18337387325|ab            |alberta         |null       |clinics - surgeons    |peakmedicalgroup.ca         |4114 brentwood rd nw, calgary, ab t2l 1k8, canada              |clinics - surgeons    |calgary      |ca             |canada         |peak medical group                       |18337387325|ab            |alberta         |t2l 1k8    |4114 brentwood rd nw                                               |1.0               |\n",
      "|legazonier.ca               |bureau d'affaires, j3l4v9, chambly, qc, canada, quebec                            |chambly     |ca             |canada         |le gazonier                                 |15149836000|qc            |quebec          |null       |landscaping           |legazonier.ca               |2082-a boulevard industriel, chambly, qc j3l 4v2, canada       |landscaping           |chambly      |ca             |canada         |le gazonier                              |15149836000|qc            |quebec          |j3l 4v2    |7+ years in business · chambly, quebec, canada                     |1.0000001192092896|\n",
      "|summitelectric.ca           |null                                                                              |null        |ca             |null           |summit electric & maintenance ltd.          |17806753638|null          |null            |null       |electrical            |summitelectric.ca           |null                                                           |electrical            |null         |ca             |null           |summit electric & maintenance ltd.       |17806753638|null          |null            |null       |null                                                               |0.9999998807907104|\n",
      "|mitchellcc.edu              |500 w broad st, 28677, statesville, nc, north carolina                            |statesville |us             |united states  |mitchell community college                  |17048783200|nc            |north carolina  |28677      |universities          |mitchellcc.edu              |500 w broad st, statesville, nc 28677, united states           |universities          |statesville  |us             |united states  |mitchell community college               |17048783200|nc            |north carolina  |28677      |statesville, nc, united states                                     |1.0               |\n",
      "|torontodanceacademy.com     |7883 keele st., l4k 1y6, vaughan, on, canada, ontario                             |null        |ca             |null           |toronto ballroom academy                    |14169535607|null          |null            |null       |dance studios         |torontodanceacademy.com     |7883 keele st, concord, on l4k 1y6, canada                     |dance studios         |concord      |ca             |canada         |toronto ballroom academy                 |14169535607|on            |ontario         |l4k 1y6    |7+ years in business · concord, on, canada                         |0.9999999403953552|\n",
      "|calgaryinteriors.com        |3635 manchester road se, t2g 3z7, calgary, ab, canada, alberta                    |calgary     |ca             |canada         |calgary interiors corp.                     |14032878663|ab            |alberta         |null       |reconditioning        |calgaryinteriors.com        |3635 manchester rd se, calgary, ab t2g 3z7, canada             |reconditioning        |calgary      |ca             |canada         |calgary interiors                        |14032878663|ab            |alberta         |t2g 3z7    |3635 manchester rd se                                              |0.8590006232261658|\n",
      "+----------------------------+----------------------------------------------------------------------------------+------------+---------------+---------------+--------------------------------------------+-----------+--------------+----------------+-----------+----------------------+----------------------------+---------------------------------------------------------------+----------------------+-------------+---------------+---------------+-----------------------------------------+-----------+--------------+----------------+-----------+-------------------------------------------------------------------+------------------+\n",
      "only showing top 20 rows\n",
      "\n"
     ]
    }
   ],
   "source": [
    "import random\n",
    "from pyspark.sql.types import StructField, DoubleType, StructType\n",
    "\n",
    "import warnings\n",
    "\n",
    "cross_cat = cross.filter(F.col(\"fb_category\") == F.col(\"gg_category\"))\n",
    "cross_cat_phone = cross_cat.filter(F.col(\"fb_phone\") == F.col(\"gg_phone\"))\n",
    "print(cross_cat_phone.count())\n",
    "\n",
    "# Suppress FutureWarning about iteritems\n",
    "warnings.simplefilter(action='ignore', category=FutureWarning)\n",
    "\n",
    "schema = StructType(cross_cat_phone.schema.fields + [StructField(\"vector\", DoubleType())])\n",
    "\n",
    "cross_cat_phone_vec = cross_cat_phone.toPandas()\n",
    "\n",
    "cross_cat_phone_vec[\"vector\"] = cross_cat_phone_vec.apply(lambda x: get_vector(x[\"fb_name\"], x[\"gg_name\"]), axis=1)\n",
    "\n",
    "df_vec_cat_phone_orig = spark.createDataFrame(cross_cat_phone_vec, schema)\n",
    "\n",
    "df_vec_cat_phone = df_vec_cat_phone_orig.filter(F.col(\"vector\") > 0.8)\n",
    "\n",
    "if df_vec_cat_phone.count() > 0:\n",
    "    print(df_vec_cat_phone.count())\n",
    "\n",
    "    df_vec_cat_phone.show(20, truncate=False)\n",
    "\n",
    "\n"
   ]
  },
  {
   "cell_type": "code",
   "execution_count": null,
   "metadata": {},
   "outputs": [
    {
     "name": "stderr",
     "output_type": "stream",
     "text": [
      "                                                                                \r"
     ]
    },
    {
     "name": "stdout",
     "output_type": "stream",
     "text": [
      "23/10/29 09:06:07 WARN TaskSetManager: Stage 62 contains a task of very large size (1242 KiB). The maximum recommended task size is 1000 KiB.\n"
     ]
    },
    {
     "name": "stderr",
     "output_type": "stream",
     "text": [
      "                                                                                \r"
     ]
    },
    {
     "name": "stdout",
     "output_type": "stream",
     "text": [
      "23/10/29 09:06:08 WARN TaskSetManager: Stage 65 contains a task of very large size (1242 KiB). The maximum recommended task size is 1000 KiB.\n",
      "16055\n",
      "23/10/29 09:06:09 WARN TaskSetManager: Stage 68 contains a task of very large size (1242 KiB). The maximum recommended task size is 1000 KiB.\n",
      "+----------------------------+---------------------------------------------------------------------+------------+---------------+---------------+-----------------------------------------------------------------+-----------+--------------+----------------+-----------+--------------------+----------------------------+---------------------------------------------------------------+--------------------+------------+---------------+---------------+--------------------------------------------+-----------+--------------+----------------+-----------+-------------------------------------------------------------------------------+------------------+\n",
      "|fb_domain                   |fb_address                                                           |fb_city     |fb_country_code|fb_country_name|fb_name                                                          |fb_phone   |fb_region_code|fb_region_name  |fb_zip_code|fb_category         |gg_domain                   |gg_address                                                     |gg_category         |gg_city     |gg_country_code|gg_country_name|gg_name                                     |gg_phone   |gg_region_code|gg_region_name  |gg_zip_code|gg_raw_address                                                                 |vector            |\n",
      "+----------------------------+---------------------------------------------------------------------+------------+---------------+---------------+-----------------------------------------------------------------+-----------+--------------+----------------+-----------+--------------------+----------------------------+---------------------------------------------------------------+--------------------+------------+---------------+---------------+--------------------------------------------+-----------+--------------+----------------+-----------+-------------------------------------------------------------------------------+------------------+\n",
      "|meridianfuels.ca            |10 highway 11 south, p0l 1c0, cochrane, on, canada, ontario          |cochrane    |ca             |canada         |meridian fuels                                                   |18885243835|on            |ontario         |p0l 1c0    |distribution        |meridianfuels.ca            |10 on-11, cochrane, on p0l 1c0, canada                         |distribution        |cochrane    |ca             |canada         |meridian fuels                              |18885243835|on            |ontario         |p0l 1c0    |cochrane, on, canada                                                           |0.9999998807907104|\n",
      "|rocklandford.ca             |2900 laurier st., k4k 1l9, rockland, on, canada, ontario             |rockland    |ca             |canada         |rockland ford sales ltd                                          |16134466464|on            |ontario         |k4k 1l9    |automobile dealers  |rocklandford.ca             |2900 laurier st, rockland, on k4k 1a3, canada                  |automobile dealers  |rockland    |ca             |canada         |rockland ford sales ltd                     |16134466464|on            |ontario         |k4k 1a3    |7+ years in business · rockland, on, canada                                    |0.9999998807907104|\n",
      "|kbaughcpa.com               |4012 gateway drive, ste 110, 76034, colleyville, tx, texas           |colleyville |us             |united states  |keith baugh, cpa, pc                                             |18173589300|tx            |texas           |76034      |accounting          |kbaughcpa.com               |4012 gateway dr suite 110, colleyville, tx 76034, united states|accounting          |colleyville |us             |united states  |keith baugh, cpa, pc                        |18173589300|tx            |texas           |76034      |7+ years in business · colleyville, tx, united states                          |1.000000238418579 |\n",
      "|casamericarealestate.com    |3038 ps business center dr, 22192, woodbridge, va, virginia          |woodbridge  |us             |united states  |casamerica real estate                                           |17034904422|va            |virginia        |22192      |real estate - agents|casamericarealestate.com    |3038 ps business center dr, woodbridge, va 22192               |real estate - agents|woodbridge  |us             |united states  |casamerica real estate                      |17034904422|va            |virginia        |22192      |7+ years in business · woodbridge, va · in great oaks business park            |0.9999998807907104|\n",
      "|leapstudiosdance.com        |288 st moritz dr sw # 4108, t3h 0z1, calgary, ab, canada, alberta    |calgary     |ca             |canada         |leap studios                                                     |null       |ab            |alberta         |null       |dance studios       |leapstudiosdance.com        |288 st moritz dr sw #4108, calgary, ab t3h 0z1, canada         |dance studios       |calgary     |ca             |canada         |leap studios                                |14038621237|ab            |alberta         |t3h 0z1    |7+ years in business · 288 st moritz dr sw #4108 · in montreux childcare centre|1.0000001192092896|\n",
      "|choicememorial.com          |105-4715 13 street ne, t2e 6m3, calgary, ab, canada, alberta         |calgary     |ca             |canada         |choice memorial cremation & funeral services/choice memorial inc.|null       |ab            |alberta         |t2e 6m3    |cemeteries          |choicememorial.com          |4715 13 st ne, calgary, ab t2e 6m3, canada                     |cemeteries          |calgary     |ca             |canada         |choice memorial cremation & funeral services|14032777343|ab            |alberta         |t2e 6m3    |4715 13 st ne                                                                  |0.8935932517051697|\n",
      "|keyconnectionsconsulting.com|1245 2nd ave south, t1j 0e5, lethbridge, ab, canada, alberta         |lethbridge  |ca             |canada         |key connections consulting                                       |null       |ab            |alberta         |t1j 0e5    |psychologists       |keyconnectionsconsulting.com|1245 2 ave s, lethbridge, ab t1j 0e5, canada                   |psychologists       |lethbridge  |ca             |canada         |key connections consulting inc              |14035242522|ab            |alberta         |t1j 0e5    |1245 2 ave s                                                                   |0.8886250257492065|\n",
      "|ckfr.org                    |5300 nw newberry hill rd, 98383, silverdale, wa, washington          |silverdale  |us             |united states  |central kitsap fire & rescue - official site                     |13604473550|wa            |washington      |98383      |fire departments    |ckfr.org                    |10955 silverdale way nw, silverdale, wa 98383                  |fire departments    |silverdale  |us             |united states  |central kitsap fire and rescue station 51   |13604473550|wa            |washington      |98383      |silverdale, wa                                                                 |0.8660122752189636|\n",
      "|theautoshow.ca              |12525 highway 50, l7e 1m4, bolton, on, canada, ontario               |bolton      |ca             |canada         |the auto show                                                    |14162664111|on            |ontario         |l7e 1m4    |manufacturers       |theautoshow.ca              |12525 hwy 50 n, bolton, on l7e 1m4, canada                     |manufacturers       |bolton      |ca             |canada         |the auto show inc                           |14162664111|on            |ontario         |l7e 1m4    |bolton, on, canada                                                             |0.8195891380310059|\n",
      "|cottonwoodcoulee.golf       |3245 - 10th avenue s.w., t1b 4b3, medicine hat, ab, canada, alberta  |medicine hat|ca             |canada         |cottonwood coulee golf course                                    |14035291010|ab            |alberta         |t1b 4b3    |country clubs       |cottonwoodcoulee.golf       |3245 10 ave sw, medicine hat, ab t1b 4b3, canada               |country clubs       |medicine hat|ca             |canada         |cottonwood coulee golf course               |14035291010|ab            |alberta         |t1b 4b3    |3245 10 ave sw                                                                 |1.0               |\n",
      "|ecuad.ca                    |520 east 1st avenue, v5t 0h2, vancouver, bc, canada, british columbia|vancouver   |ca             |canada         |emily carr university of art + design                            |16048443800|bc            |british columbia|null       |universities        |ecuad.ca                    |vancouver, bc, canada                                          |universities        |vancouver   |ca             |canada         |emily carr university of art + design       |16048443800|bc            |british columbia|null       |vancouver, bc, canada                                                          |1.0               |\n",
      "|peakmedicalgroup.ca         |3101 19605 walden blvd se, t2x 4c3, calgary, ab, canada, alberta     |calgary     |ca             |canada         |peak medical group                                               |18337387325|ab            |alberta         |null       |clinics - surgeons  |peakmedicalgroup.ca         |4114 brentwood rd nw, calgary, ab t2l 1k8, canada              |clinics - surgeons  |calgary     |ca             |canada         |peak medical group                          |18337387325|ab            |alberta         |t2l 1k8    |4114 brentwood rd nw                                                           |1.0               |\n",
      "|legazonier.ca               |bureau d'affaires, j3l4v9, chambly, qc, canada, quebec               |chambly     |ca             |canada         |le gazonier                                                      |15149836000|qc            |quebec          |null       |landscaping         |legazonier.ca               |2082-a boulevard industriel, chambly, qc j3l 4v2, canada       |landscaping         |chambly     |ca             |canada         |le gazonier                                 |15149836000|qc            |quebec          |j3l 4v2    |7+ years in business · chambly, quebec, canada                                 |1.0000001192092896|\n",
      "|mitchellcc.edu              |500 w broad st, 28677, statesville, nc, north carolina               |statesville |us             |united states  |mitchell community college                                       |17048783200|nc            |north carolina  |28677      |universities        |mitchellcc.edu              |500 w broad st, statesville, nc 28677, united states           |universities        |statesville |us             |united states  |mitchell community college                  |17048783200|nc            |north carolina  |28677      |statesville, nc, united states                                                 |1.0               |\n",
      "|calgaryinteriors.com        |3635 manchester road se, t2g 3z7, calgary, ab, canada, alberta       |calgary     |ca             |canada         |calgary interiors corp.                                          |14032878663|ab            |alberta         |null       |reconditioning      |calgaryinteriors.com        |3635 manchester rd se, calgary, ab t2g 3z7, canada             |reconditioning      |calgary     |ca             |canada         |calgary interiors                           |14032878663|ab            |alberta         |t2g 3z7    |3635 manchester rd se                                                          |0.8590006232261658|\n",
      "|blainvilleford.com          |600 boulevard curé-labelle, j7c 2h9, blainville, qc, canada, quebec  |blainville  |ca             |canada         |blainville ford                                                  |14504309181|qc            |quebec          |j7c 2h9    |automobile dealers  |blainvilleford.com          |600 boulevard du curé-labelle, blainville, qc j7c 2h9, canada  |automobile dealers  |blainville  |ca             |canada         |blainville ford                             |14504309181|qc            |quebec          |j7c 2h9    |600 boulevard du curé-labelle                                                  |1.0000001192092896|\n",
      "|mightymechanical.ca         |18th st, s0m0e0, battleford, sk, canada, saskatchewan                |battleford  |ca             |canada         |mighty mechanical plumbing & electric ltd.                       |null       |sk            |saskatchewan    |s0m0e0     |electrical          |mightymechanical.ca         |battleford, sk, canada                                         |electrical          |battleford  |ca             |canada         |mighty mechanical plumbing & electric ltd.  |13064908006|sk            |saskatchewan    |null       |battleford, sk, canada                                                         |1.0000001192092896|\n",
      "|dragonseed.ca               |4610a 101 st nw, t6e 5g9, edmonton, ab, canada, alberta              |edmonton    |ca             |canada         |dragon seed interior design inc.                                 |17804374320|ab            |alberta         |t6e 5g9    |interior designers  |dragonseed.ca               |4610a 101 st nw, edmonton, ab t6e 5g9, canada                  |interior designers  |edmonton    |ca             |canada         |dragon seed interior design inc.            |17804374320|ab            |alberta         |t6e 5g9    |7+ years in business · edmonton, ab, canada                                    |1.0000001192092896|\n",
      "|cotswoldcottage.ca          |570 steven court, l3y6z2, newmarket, on, canada, ontario             |newmarket   |ca             |canada         |cotswold cottage                                                 |null       |on            |ontario         |l3y6z2     |desserts            |cotswoldcottage.ca          |newmarket, on, canada                                          |desserts            |newmarket   |ca             |canada         |cotswold cottage                            |19059538335|on            |ontario         |l3y 6z2    |newmarket, on, canada                                                          |1.000000238418579 |\n",
      "|nurturancehealth.ca         |9505 163 street, t5p 3m6, edmonton, ab, canada, alberta              |edmonton    |ca             |canada         |nurturance health                                                |17806806944|ab            |alberta         |t5p 3m6    |physical therapy    |nurturancehealth.ca         |9505 163 st nw, edmonton, ab t5p 3m6, canada                   |physical therapy    |edmonton    |ca             |canada         |nurturance health                           |17806806944|ab            |alberta         |t5p 3m6    |edmonton, ab, canada                                                           |1.000000238418579 |\n",
      "+----------------------------+---------------------------------------------------------------------+------------+---------------+---------------+-----------------------------------------------------------------+-----------+--------------+----------------+-----------+--------------------+----------------------------+---------------------------------------------------------------+--------------------+------------+---------------+---------------+--------------------------------------------+-----------+--------------+----------------+-----------+-------------------------------------------------------------------------------+------------------+\n",
      "only showing top 20 rows\n",
      "\n"
     ]
    }
   ],
   "source": [
    "cross_cat = cross.filter(F.col(\"fb_category\") == F.col(\"gg_category\"))\n",
    "cross_cat_country = cross_cat.filter(F.col(\"fb_country_name\") == F.col(\"gg_country_name\"))\n",
    "cross_cat_country_city = cross_cat_country.filter(F.col(\"fb_city\") == F.col(\"gg_city\"))\n",
    "cross_cat_country_city_dom = cross_cat_country_city.filter(F.col(\"fb_domain\") == F.col(\"gg_domain\"))\n",
    "\n",
    "import random\n",
    "from pyspark.sql.types import StructField, DoubleType, StructType\n",
    "\n",
    "import warnings\n",
    "import pandas as pd\n",
    "\n",
    "# Suppress FutureWarning about iteritems\n",
    "warnings.simplefilter(action='ignore', category=FutureWarning)\n",
    "\n",
    "schema = StructType(cross_cat_country_city_dom.schema.fields + [StructField(\"vector\", DoubleType())])\n",
    "\n",
    "cross_cat_country_city_dom_vec = cross_cat_country_city_dom.toPandas()\n",
    "\n",
    "cross_cat_country_city_dom_vec[\"vector\"] = cross_cat_country_city_dom_vec.apply(lambda x: get_vector(x[\"fb_name\"], x[\"gg_name\"]), axis=1)\n",
    "\n",
    "df_vec_orig = spark.createDataFrame(cross_cat_country_city_dom_vec, schema)\n",
    "\n",
    "df_vec = df_vec_orig.filter(F.col(\"vector\") > 0.8)\n",
    "\n",
    "if df_vec.count() > 0:\n",
    "    print(df_vec.count())\n",
    "\n",
    "    df_vec.show(20, truncate=False)\n",
    "\n",
    "\n"
   ]
  },
  {
   "cell_type": "code",
   "execution_count": null,
   "metadata": {},
   "outputs": [
    {
     "name": "stdout",
     "output_type": "stream",
     "text": [
      "111251\n"
     ]
    },
    {
     "name": "stderr",
     "output_type": "stream",
     "text": [
      "                                                                                \r"
     ]
    },
    {
     "name": "stdout",
     "output_type": "stream",
     "text": [
      "23/10/29 12:30:38 WARN TaskSetManager: Stage 75 contains a task of very large size (4631 KiB). The maximum recommended task size is 1000 KiB.\n"
     ]
    },
    {
     "name": "stderr",
     "output_type": "stream",
     "text": [
      "                                                                                \r"
     ]
    },
    {
     "name": "stdout",
     "output_type": "stream",
     "text": [
      "23/10/29 12:30:40 WARN TaskSetManager: Stage 78 contains a task of very large size (4631 KiB). The maximum recommended task size is 1000 KiB.\n"
     ]
    },
    {
     "name": "stderr",
     "output_type": "stream",
     "text": [
      "                                                                                \r"
     ]
    },
    {
     "name": "stdout",
     "output_type": "stream",
     "text": [
      "34076\n",
      "23/10/29 12:30:41 WARN TaskSetManager: Stage 81 contains a task of very large size (4631 KiB). The maximum recommended task size is 1000 KiB.\n"
     ]
    },
    {
     "name": "stderr",
     "output_type": "stream",
     "text": [
      "[Stage 81:>                                                         (0 + 1) / 1]\r"
     ]
    },
    {
     "name": "stdout",
     "output_type": "stream",
     "text": [
      "23/10/29 12:30:45 WARN PythonRunner: Detected deadlock while completing task 0.0 in stage 81 (TID 318): Attempting to kill Python Worker\n",
      "+----------------------------+----------------------------------------------------------------------------------+-----------+---------------+---------------+-----------------------------------------------------------------+-----------+--------------+--------------+-----------+----------------------+----------------------------+--------------------------------------------------------------------------------------------------+----------------------+-------------+---------------+---------------+--------------------------------------------+------------+--------------+----------------+-----------+--------------------------------------------------------------------------------------------------+------------------+\n",
      "|fb_domain                   |fb_address                                                                        |fb_city    |fb_country_code|fb_country_name|fb_name                                                          |fb_phone   |fb_region_code|fb_region_name|fb_zip_code|fb_category           |gg_domain                   |gg_address                                                                                        |gg_category           |gg_city      |gg_country_code|gg_country_name|gg_name                                     |gg_phone    |gg_region_code|gg_region_name  |gg_zip_code|gg_raw_address                                                                                    |vector            |\n",
      "+----------------------------+----------------------------------------------------------------------------------+-----------+---------------+---------------+-----------------------------------------------------------------+-----------+--------------+--------------+-----------+----------------------+----------------------------+--------------------------------------------------------------------------------------------------+----------------------+-------------+---------------+---------------+--------------------------------------------+------------+--------------+----------------+-----------+--------------------------------------------------------------------------------------------------+------------------+\n",
      "|meridianfuels.ca            |10 highway 11 south, p0l 1c0, cochrane, on, canada, ontario                       |cochrane   |ca             |canada         |meridian fuels                                                   |18885243835|on            |ontario       |p0l 1c0    |distribution          |meridianfuels.ca            |10 on-11, cochrane, on p0l 1c0, canada                                                            |distribution          |cochrane     |ca             |canada         |meridian fuels                              |18885243835 |on            |ontario         |p0l 1c0    |cochrane, on, canada                                                                              |0.9999998807907104|\n",
      "|rocklandford.ca             |2900 laurier st., k4k 1l9, rockland, on, canada, ontario                          |rockland   |ca             |canada         |rockland ford sales ltd                                          |16134466464|on            |ontario       |k4k 1l9    |automobile dealers    |rocklandford.ca             |2900 laurier st, rockland, on k4k 1a3, canada                                                     |automobile dealers    |rockland     |ca             |canada         |rockland ford sales ltd                     |16134466464 |on            |ontario         |k4k 1a3    |7+ years in business · rockland, on, canada                                                       |0.9999998807907104|\n",
      "|melilloarchitects.ca        |2938a bloor street west, m8x 1b6, toronto, on, canada, ontario                    |null       |ca             |null           |melillo architects incorporated                                  |14163684225|null          |null          |null       |architectural services|melilloarchitects.ca        |2938a bloor st w, etobicoke, on m8x 1b6, canada                                                   |architectural services|etobicoke    |ca             |canada         |melillo architects incorporated             |14163684225 |on            |ontario         |m8x 1b6    |7+ years in business · etobicoke, on, canada                                                      |1.0000001192092896|\n",
      "|valenciacollege.edu         |null                                                                              |null       |null           |null           |valencia college                                                 |null       |null          |null          |null       |colleges              |valenciacollege.edu         |1800 s kirkman rd, orlando, fl 32811                                                              |colleges              |orlando      |us             |united states  |valencia college                            |14072995000 |fl            |florida         |32811      |orlando, fl                                                                                       |1.0               |\n",
      "|rebeccamitchellinteriors.com|null                                                                              |null       |ca             |null           |rmi - rebecca mitchell interiors                                 |15146740890|null          |null          |null       |decorators            |rebeccamitchellinteriors.com|pointe-claire, quebec, canada                                                                     |decorators            |pointe-claire|ca             |canada         |rebecca mitchell interiors                  |15146740890 |qc            |quebec          |null       |pointe-claire, quebec, canada                                                                     |0.8905031681060791|\n",
      "|taylorsestateagents.co.uk   |3 shannon court, high street, sg19 1ag, sandy, uk, england                        |sandy      |gb             |united kingdom |taylors estate and lettings agents                               |null       |eng           |england       |sg19 1ag   |real estate - agents  |taylorsestateagents.co.uk   |2 high st s, dunstable lu6 3ha, united kingdom                                                    |real estate - agents  |dunstable    |gb             |united kingdom |taylors estate agents dunstable             |441582206315|eng           |england         |lu6 3ha    |7+ years in business · dunstable, united kingdom                                                  |0.8364219665527344|\n",
      "|kbaughcpa.com               |4012 gateway drive, ste 110, 76034, colleyville, tx, texas                        |colleyville|us             |united states  |keith baugh, cpa, pc                                             |18173589300|tx            |texas         |76034      |accounting            |kbaughcpa.com               |4012 gateway dr suite 110, colleyville, tx 76034, united states                                   |accounting            |colleyville  |us             |united states  |keith baugh, cpa, pc                        |18173589300 |tx            |texas           |76034      |7+ years in business · colleyville, tx, united states                                             |1.000000238418579 |\n",
      "|casamericarealestate.com    |3038 ps business center dr, 22192, woodbridge, va, virginia                       |woodbridge |us             |united states  |casamerica real estate                                           |17034904422|va            |virginia      |22192      |real estate - agents  |casamericarealestate.com    |3038 ps business center dr, woodbridge, va 22192                                                  |real estate - agents  |woodbridge   |us             |united states  |casamerica real estate                      |17034904422 |va            |virginia        |22192      |7+ years in business · woodbridge, va · in great oaks business park                               |0.9999998807907104|\n",
      "|goddardschool.com           |300 belchase court, 07747, matawan, nj, new jersey                                |matawan    |us             |united states  |the goddard school                                               |17324413500|nj            |new jersey    |07747      |preschools            |goddardschool.com           |7+ years in business · south kingstown, ri, united states · in the village at south county commons|preschools            |null         |us             |null           |the goddard school of south kingstown       |14017890300 |null          |null            |null       |7+ years in business · south kingstown, ri, united states · in the village at south county commons|0.8366461992263794|\n",
      "|emiratesislamic.ae          |null                                                                              |null       |null           |null           |emirates islamic                                                 |null       |null          |null          |null       |banks                 |emiratesislamic.ae          |opposite dubai islamic bank - hamad bin abdulla rd                                                |banks                 |null         |ae             |null           |emirates islamic bank                       |97143160101 |null          |null            |null       |opposite dubai islamic bank - hamad bin abdulla rd                                                |0.8132568597793579|\n",
      "|yvessicardautos.com         |599 boulevard ste-madeleine local 101, g8t 9j8, trois-rivières, qc, canada, quebec|null       |ca             |null           |yves sicard automobiles                                          |18196930677|null          |null          |null       |automobile dealers    |yvessicardautos.com         |599 boulevard ste madeleine                                                                       |automobile dealers    |null         |ca             |null           |automobile yves sicard                      |18196930677 |null          |null            |null       |599 boulevard ste madeleine                                                                       |0.9330018162727356|\n",
      "|electrician2go.ca           |23-19180,  65th street, v4n 6m5, surrey, bc, canada, british columbia             |null       |ca             |null           |reisinger electric                                               |17788857074|null          |null          |null       |wiring contractors    |electrician2go.ca           |chilliwack, bc, canada                                                                            |wiring contractors    |chilliwack   |ca             |canada         |reisinger electric services                 |17788857074 |bc            |british columbia|null       |chilliwack, bc, canada                                                                            |0.8363454937934875|\n",
      "|ubt.com                     |nebraska union                                                                    |null       |null           |null           |union bank & trust                                               |null       |null          |null          |null       |banks                 |ubt.com                     |4433 s 70th st, lincoln, ne 68516                                                                 |banks                 |lincoln      |us             |united states  |union bank & trust                          |14023231777 |ne            |nebraska        |68516      |lincoln, ne                                                                                       |1.0               |\n",
      "|leapstudiosdance.com        |288 st moritz dr sw # 4108, t3h 0z1, calgary, ab, canada, alberta                 |calgary    |ca             |canada         |leap studios                                                     |null       |ab            |alberta       |null       |dance studios         |leapstudiosdance.com        |288 st moritz dr sw #4108, calgary, ab t3h 0z1, canada                                            |dance studios         |calgary      |ca             |canada         |leap studios                                |14038621237 |ab            |alberta         |t3h 0z1    |7+ years in business · 288 st moritz dr sw #4108 · in montreux childcare centre                   |1.0000001192092896|\n",
      "|tradeproacademy.com         |null                                                                              |null       |null           |null           |tradepro academy                                                 |null       |null          |null          |null       |financial advisors    |tradeproacademy.com         |67 mowat ave suite 302, toronto, on m6k 3e3, canada                                               |financial advisors    |toronto      |us             |canada         |tradepro academy                            |18668872338 |on            |ontario         |m6k 3e3    |7+ years in business · toronto, on, canada · in toronto carpet factory                            |1.0000001192092896|\n",
      "|choicememorial.com          |105-4715 13 street ne, t2e 6m3, calgary, ab, canada, alberta                      |calgary    |ca             |canada         |choice memorial cremation & funeral services/choice memorial inc.|null       |ab            |alberta       |t2e 6m3    |cemeteries            |choicememorial.com          |4715 13 st ne, calgary, ab t2e 6m3, canada                                                        |cemeteries            |calgary      |ca             |canada         |choice memorial cremation & funeral services|14032777343 |ab            |alberta         |t2e 6m3    |4715 13 st ne                                                                                     |0.8935932517051697|\n",
      "|uwhealth.org                |null                                                                              |null       |null           |null           |uw health                                                        |null       |null          |null          |null       |physicians            |uwhealth.org                |451 junction rd, madison, wi 53717                                                                |physicians            |madison      |us             |united states  |uw health west clinic                       |16082657700 |wi            |wisconsin       |53717      |madison, wi                                                                                       |0.8044025301933289|\n",
      "|keyconnectionsconsulting.com|1245 2nd ave south, t1j 0e5, lethbridge, ab, canada, alberta                      |lethbridge |ca             |canada         |key connections consulting                                       |null       |ab            |alberta       |t1j 0e5    |psychologists         |keyconnectionsconsulting.com|1245 2 ave s, lethbridge, ab t1j 0e5, canada                                                      |psychologists         |lethbridge   |ca             |canada         |key connections consulting inc              |14035242522 |ab            |alberta         |t1j 0e5    |1245 2 ave s                                                                                      |0.8886250257492065|\n",
      "|ckfr.org                    |5300 nw newberry hill rd, 98383, silverdale, wa, washington                       |silverdale |us             |united states  |central kitsap fire & rescue - official site                     |13604473550|wa            |washington    |98383      |fire departments      |ckfr.org                    |10955 silverdale way nw, silverdale, wa 98383                                                     |fire departments      |silverdale   |us             |united states  |central kitsap fire and rescue station 51   |13604473550 |wa            |washington      |98383      |silverdale, wa                                                                                    |0.8660122752189636|\n",
      "|ontapeventservices.ca       |null                                                                              |null       |ca             |null           |on tap event services                                            |12047921810|null          |null          |null       |party planners        |ontapeventservices.ca       |676 elizabeth rd, winnipeg, mb r2j 1a4, canada                                                    |party planners        |winnipeg     |ca             |canada         |on tap event services                       |12047921810 |mb            |manitoba        |r2j 1a4    |676 elizabeth rd                                                                                  |1.0000001192092896|\n",
      "+----------------------------+----------------------------------------------------------------------------------+-----------+---------------+---------------+-----------------------------------------------------------------+-----------+--------------+--------------+-----------+----------------------+----------------------------+--------------------------------------------------------------------------------------------------+----------------------+-------------+---------------+---------------+--------------------------------------------+------------+--------------+----------------+-----------+--------------------------------------------------------------------------------------------------+------------------+\n",
      "only showing top 20 rows\n",
      "\n"
     ]
    },
    {
     "name": "stderr",
     "output_type": "stream",
     "text": [
      "                                                                                \r"
     ]
    }
   ],
   "source": [
    "\n",
    "\n",
    "cross_cat = cross.filter(F.col(\"fb_category\") == F.col(\"gg_category\"))\n",
    "cross_cat_dom = cross_cat.filter(F.col(\"fb_domain\") == F.col(\"gg_domain\"))\n",
    "print(cross_cat_dom.count())\n",
    "\n",
    "\n",
    "\n",
    "import random\n",
    "from pyspark.sql.types import StructField, DoubleType, StructType\n",
    "\n",
    "import warnings\n",
    "import pandas as pd\n",
    "\n",
    "# Suppress FutureWarning about iteritems\n",
    "warnings.simplefilter(action='ignore', category=FutureWarning)\n",
    "\n",
    "schema = StructType(cross_cat_dom.schema.fields + [StructField(\"vector\", DoubleType())])\n",
    "\n",
    "cross_cat_dom_vec = cross_cat_dom.toPandas()\n",
    "\n",
    "cross_cat_dom_vec[\"vector\"] = cross_cat_dom_vec.apply(lambda x: get_vector(x[\"fb_name\"], x[\"gg_name\"]), axis=1)\n",
    "\n",
    "df_vec_cat_dom_orig = spark.createDataFrame(cross_cat_dom_vec, schema)\n",
    "\n",
    "df_vec_cat_dom = df_vec_cat_dom_orig.filter(F.col(\"vector\") > 0.8)\n",
    "\n",
    "if df_vec_cat_dom.count() > 0:\n",
    "    print(df_vec_cat_dom.count())\n",
    "\n",
    "    df_vec_cat_dom.show(20, truncate=False)\n",
    "\n",
    "\n"
   ]
  },
  {
   "cell_type": "code",
   "execution_count": null,
   "metadata": {},
   "outputs": [],
   "source": [
    "orig = df_vec_cat_dom_orig.unionByName(df_vec_orig).unionByName(df_vec_cat_phone_orig).distinct()"
   ]
  },
  {
   "cell_type": "code",
   "execution_count": null,
   "metadata": {},
   "outputs": [
    {
     "name": "stdout",
     "output_type": "stream",
     "text": [
      "23/10/29 13:08:14 WARN TaskSetManager: Stage 121 contains a task of very large size (4631 KiB). The maximum recommended task size is 1000 KiB.\n"
     ]
    },
    {
     "name": "stderr",
     "output_type": "stream",
     "text": [
      "[Stage 121:====================================>                  (16 + 8) / 24]\r"
     ]
    },
    {
     "name": "stdout",
     "output_type": "stream",
     "text": [
      "+-------------------+-----------------------------------------------------+-------+---------------+--------------------+--------------------------------+-----------+--------------+--------------+-----------+-----------------------------+-------------------+------------------------------------------------------------------------------------------------------------------------------------------+-----------------------------+-------+---------------+--------------------+------------------------------------+-----------+--------------+--------------+-----------+------------------------------------------------------------------------------------+------------------+\n",
      "|fb_domain          |fb_address                                           |fb_city|fb_country_code|fb_country_name     |fb_name                         |fb_phone   |fb_region_code|fb_region_name|fb_zip_code|fb_category                  |gg_domain          |gg_address                                                                                                                                |gg_category                  |gg_city|gg_country_code|gg_country_name     |gg_name                             |gg_phone   |gg_region_code|gg_region_name|gg_zip_code|gg_raw_address                                                                      |vector            |\n",
      "+-------------------+-----------------------------------------------------+-------+---------------+--------------------+--------------------------------+-----------+--------------+--------------+-----------+-----------------------------+-------------------+------------------------------------------------------------------------------------------------------------------------------------------+-----------------------------+-------+---------------+--------------------+------------------------------------+-----------+--------------+--------------+-----------+------------------------------------------------------------------------------------+------------------+\n",
      "|fit.ae             |3a street, dubai, united arab emirates, dubai        |dubai  |ae             |united arab emirates|frontline information technology|97143533727|du            |dubai         |dubai      |software development services|fit.ae             |frontline information technology llc - first floor, office no. 113, hamsah a near ansar gallary - al karama - dubai - united arab emirates|software development services|dubai  |ae             |united arab emirates|frontline information technology llc|97143533727|du            |dubai         |null       |first floor, office no. 113, hamsah a near ansar gallary · in ansar gallery - karama|0.7500152587890625|\n",
      "|oldsfertilizers.com|5909 imperial way, t4h 1m5, olds, ab, canada, alberta|olds   |ca             |canada              |olds fertilizers                |null       |ab            |alberta       |t4h 1m5    |farms                        |oldsfertilizers.com|5909 imperial way, olds, ab t4h 1m5, canada                                                                                               |farms                        |olds   |ca             |canada              |olds fertilizers & agri services ltd|14035566441|ab            |alberta       |t4h 1m5    |olds, ab, canada                                                                    |0.7500222325325012|\n",
      "|oldsfertilizers.com|5909 imperial way, t4h 1m5, olds, ab, canada, alberta|olds   |ca             |canada              |olds fertilizers                |null       |ab            |alberta       |t4h 1m5    |agriculture production       |oldsfertilizers.com|5909 imperial way, olds, ab t4h 1m5, canada                                                                                               |agriculture production       |olds   |ca             |canada              |olds fertilizers & agri services ltd|14035566441|ab            |alberta       |t4h 1m5    |olds, ab, canada                                                                    |0.7500222325325012|\n",
      "|sanfordhealth.org  |null                                                 |null   |null           |null                |sanford health                  |null       |null          |null          |null       |clinics - surgeons           |sanfordhealth.org  |100 1st ave sw, lamoure, nd 58458                                                                                                         |clinics - surgeons           |lamoure|us             |united states       |sanford health lamoure clinic       |17018835048|nd            |north dakota  |58458      |lamoure, nd                                                                         |0.7500783801078796|\n",
      "|sanfordhealth.org  |null                                                 |null   |null           |null                |sanford health                  |null       |null          |null          |null       |physicians                   |sanfordhealth.org  |100 1st ave sw, lamoure, nd 58458                                                                                                         |physicians                   |lamoure|us             |united states       |sanford health lamoure clinic       |17018835048|nd            |north dakota  |58458      |lamoure, nd                                                                         |0.7500783801078796|\n",
      "+-------------------+-----------------------------------------------------+-------+---------------+--------------------+--------------------------------+-----------+--------------+--------------+-----------+-----------------------------+-------------------+------------------------------------------------------------------------------------------------------------------------------------------+-----------------------------+-------+---------------+--------------------+------------------------------------+-----------+--------------+--------------+-----------+------------------------------------------------------------------------------------+------------------+\n",
      "only showing top 5 rows\n",
      "\n"
     ]
    },
    {
     "name": "stderr",
     "output_type": "stream",
     "text": [
      "                                                                                \r"
     ]
    }
   ],
   "source": [
    "# orig.show(truncate=False)\n",
    "orig.filter(F.col(\"vector\") > 0.75).sort(F.col(\"vector\")).show(5, truncate=False)"
   ]
  },
  {
   "cell_type": "code",
   "execution_count": null,
   "metadata": {},
   "outputs": [
    {
     "name": "stdout",
     "output_type": "stream",
     "text": [
      "23/10/29 13:39:09 WARN TaskSetManager: Stage 157 contains a task of very large size (4631 KiB). The maximum recommended task size is 1000 KiB.\n"
     ]
    },
    {
     "name": "stderr",
     "output_type": "stream",
     "text": [
      "[Stage 157:==================================================>    (22 + 2) / 24]\r"
     ]
    },
    {
     "name": "stdout",
     "output_type": "stream",
     "text": [
      "+-----------------------+---------------------------------------------------------------------------+-------------------+---------------+---------------+-------------------------------+------------+--------------+--------------+-----------+-----------------------+--------------------------------------------------------------------------------+----------------+---------------+---------------+-----------------------------------------------------------+------------+--------------+--------------+-----------+------------------------------------------------+-------------------+--------------------------------------+\n",
      "|fb_domain              |fb_address                                                                 |fb_city            |fb_country_code|fb_country_name|fb_name                        |fb_phone    |fb_region_code|fb_region_name|fb_zip_code|gg_domain              |gg_address                                                                      |gg_city         |gg_country_code|gg_country_name|gg_name                                                    |gg_phone    |gg_region_code|gg_region_name|gg_zip_code|gg_raw_address                                  |vector             |categories                            |\n",
      "+-----------------------+---------------------------------------------------------------------------+-------------------+---------------+---------------+-------------------------------+------------+--------------+--------------+-----------+-----------------------+--------------------------------------------------------------------------------+----------------+---------------+---------------+-----------------------------------------------------------+------------+--------------+--------------+-----------+------------------------------------------------+-------------------+--------------------------------------+\n",
      "|08rotulacion.com       |plaza del caño 1 galería alpa, 28260, galapagar, spain, comunidad de madrid|galapagar          |es             |spain          |08 rotulación                  |null        |md            |madrid        |28260      |08rotulacion.com       |plaza del caño, 1, local 1a, 28260 galapagar, madrid                            |galapagar       |null           |spain          |08 rotulación                                              |null        |md            |madrid        |28260      |plaza del caño, 1, local 1a                     |1.0000001192092896 |commercial printing                   |\n",
      "|1111realty.ca          |3200 dufferin street, suite 201., m6a 3b2, toronto, on, canada, ontario    |null               |null           |null           |eleven eleven realty           |null        |null          |null          |null       |1111realty.ca          |3200 dufferin st suite 201, north york, on m6a 3b2, canada                      |north york      |ca             |canada         |eleven eleven realty                                       |14165885100 |on            |ontario       |m6a 3b2    |north york, on, canada                          |1.0                |managers & real estate - agents       |\n",
      "|1stpageontheweb.ca     |45 o'connor st, k1p 1a4, ottawa, on, canada, ontario                       |ottawa             |ca             |canada         |bdn seo ranking specialist ltd |16137240028 |on            |ontario       |k1p 1a4    |1stpageontheweb.ca     |45 o'connor st, ottawa, on k1p 1a4, canada                                      |ottawa          |ca             |canada         |bdn seo ranking specialist ltd                             |16137240028 |on            |ontario       |k1p 1a4    |45 o'connor st                                  |0.9999999403953552 |web development agencies              |\n",
      "|21six.com              |the barn, calcot mount, calcot lane,, so32 2bn, winchester, uk, england    |null               |null           |null           |21six group                    |null        |null          |null          |null       |21six.com              |44 leigh rd, eastleigh so50 9dt, united kingdom                                 |eastleigh       |gb             |united kingdom |21six                                                      |442380620088|eng           |england       |so50 9dt   |7+ years in business · eastleigh, united kingdom|0.7277922034263611 |digital & marketing agencies          |\n",
      "|247-247.net            |null                                                                       |null               |null           |null           |247 cars                       |null        |null          |null          |null       |247-247.net            |null                                                                            |null            |gb             |null           |247 cars - litchfield                                      |441543224747|null          |null          |null       |null                                            |0.7469589710235596 |taxicabs                              |\n",
      "|247-247.net            |null                                                                       |null               |null           |null           |247 cars                       |null        |null          |null          |null       |247-247.net            |null                                                                            |null            |gb             |null           |247 cars - new cross hospital                              |441902252525|null          |null          |null       |null                                            |0.7001659274101257 |taxicabs                              |\n",
      "|247-247.net            |null                                                                       |null               |null           |null           |247 cars                       |null        |null          |null          |null       |247-247.net            |null                                                                            |null            |gb             |null           |247 cars - nuneaton                                        |442475260247|null          |null          |null       |null                                            |0.7497289776802063 |taxicabs                              |\n",
      "|247-247.net            |null                                                                       |null               |null           |null           |247 cars                       |null        |null          |null          |null       |247-247.net            |null                                                                            |null            |gb             |null           |247 cars - spring hill                                     |441902747474|null          |null          |null       |null                                            |0.7359687685966492 |taxicabs                              |\n",
      "|247-247.net            |null                                                                       |null               |null           |null           |247 cars                       |null        |null          |null          |null       |247-247.net            |null                                                                            |null            |gb             |null           |247 taxi app uk                                            |448003286872|null          |null          |null       |null                                            |0.5089667439460754 |taxicabs                              |\n",
      "|247-247.net            |null                                                                       |null               |null           |null           |247 cars                       |null        |null          |null          |null       |247-247.net            |null                                                                            |null            |gb             |null           |247cars - alum rock                                        |441213122111|null          |null          |null       |null                                            |0.5633549690246582 |taxicabs                              |\n",
      "|247-247.net            |null                                                                       |null               |null           |null           |247 cars                       |null        |null          |null          |null       |247-247.net            |79 leamore ln, walsall ws2 7bu, united kingdom                                  |walsall         |gb             |united kingdom |247 cars - bloxwich                                        |441922247247|eng           |england       |ws2 7bu    |walsall, united kingdom                         |0.7972591519355774 |taxicabs                              |\n",
      "|29mayis.edu.tr         |null                                                                       |null               |tr             |null           |i̇stanbul 29 mayıs üniversitesi|902164740860|null          |null          |null       |29mayis.edu.tr         |elmalı kent mah. ümraniye no:4, ümraniye/i̇stanbul, turkey                      |istanbul        |tr             |turkey         |istanbul 29 mayıs university                               |902164740860|34            |istanbul      |null       |ümraniye/i̇stanbul, turkey                      |0.9231351017951965 |universities & colleges               |\n",
      "|306dayspa.com          |307 main street, s0k4t0, watrous, sk, canada, saskatchewan                 |watrous            |ca             |canada         |306 day spa                    |null        |sk            |saskatchewan  |s0k4t0     |306dayspa.com          |watrous, sk, canada                                                             |watrous         |ca             |canada         |306 day spa inc.                                           |13064199149 |sk            |saskatchewan  |null       |watrous, sk, canada                             |0.8631714582443237 |spa & wellness centers                |\n",
      "|333photo.com           |5570 rue cartier #203, h2h 1x9, montreal, qc, canada, quebec               |null               |ca             |null           |333 photo & design             |15148874686 |null          |null          |null       |333photo.com           |7+ years in business · montreal, quebec, canada                                 |montreal        |ca             |canada         |333 photo & design                                         |15148874686 |qc            |quebec        |null       |7+ years in business · montreal, quebec, canada |1.0000001192092896 |web development agencies              |\n",
      "|360recruitment.net     |null                                                                       |null               |gb             |null           |360 recruitment consultancy ltd|441202298360|null          |null          |null       |360recruitment.net     |7 & 8 church st, wimborne bh21 1jh, united kingdom                              |wimborne minster|gb             |united kingdom |360 recruitment consultancy ltd                            |441202298360|eng           |england       |bh21 1jh   |7+ years in business · wimborne, united kingdom |1.0000001192092896 |hr consulting & employment agencies   |\n",
      "|3dmicroendo.com        |111 broadway, ste 803, 10006, new york, ny, new york                       |new york           |us             |united states  |tribeca endodontics            |16464549997 |ny            |new york      |10006      |3dmicroendo.com        |65 e 79th st, new york, ny 10075, united states                                 |new york        |us             |united states  |jason deblinger, dmd                                       |12127727668 |ny            |new york      |10075      |65 e 79th st                                    |0.23737023770809174|endodontists                          |\n",
      "|3ds.com                |10, rue marcel dassault, 78140, vélizy-villacoublay, france, île-de-france |velizy-villacoublay|fr             |france         |dassault systèmes              |33141384138 |idf           |ile-de-france |78140      |3ds.com                |334, 335 cambridge science park rd, impington, cambridge cb4 0wn, united kingdom|cambridge       |gb             |united kingdom |dassault systemes                                          |441223228500|eng           |england       |cb4 0wn    |cambridge, united kingdom                       |1.0000001192092896 |software development services         |\n",
      "|3ds.com                |10, rue marcel dassault, 78140, vélizy-villacoublay, france, île-de-france |velizy-villacoublay|fr             |france         |dassault systèmes              |33141384138 |idf           |ile-de-france |78140      |3ds.com                |strelley hall, main st, strelley, nottingham ng8 6pe, united kingdom            |nottingham      |gb             |united kingdom |dassault systemes uk ltd                                   |441159061120|eng           |england       |ng8 6pe    |nottingham, united kingdom · in strelley hall   |0.6775518655776978 |software development services         |\n",
      "|3oaksphotographyinc.com|null                                                                       |null               |null           |null           |3 oaks photography inc         |null        |null          |null          |null       |3oaksphotographyinc.com|157 n carson st, etobicoke, on m8w 4e1, canada                                  |etobicoke       |ca             |canada         |3 oaks photography inc                                     |14162018952 |on            |ontario       |m8w 4e1    |7+ years in business · etobicoke, on, canada    |1.0                |photographers & photographic studios  |\n",
      "|411habitation.com      |null                                                                       |null               |ca             |null           |mccalfeutrage                  |15147542622 |null          |null          |null       |411habitation.com      |null                                                                            |null            |ca             |null           |construction grava inc. - entrepreneur général charlesbourg|14182613371 |null          |null          |null       |null                                            |0.19804008305072784|renovation contractors & home builders|\n",
      "+-----------------------+---------------------------------------------------------------------------+-------------------+---------------+---------------+-------------------------------+------------+--------------+--------------+-----------+-----------------------+--------------------------------------------------------------------------------+----------------+---------------+---------------+-----------------------------------------------------------+------------+--------------+--------------+-----------+------------------------------------------------+-------------------+--------------------------------------+\n",
      "only showing top 20 rows\n",
      "\n"
     ]
    },
    {
     "name": "stderr",
     "output_type": "stream",
     "text": [
      "                                                                                \r"
     ]
    }
   ],
   "source": [
    "# Group by the necessary columns\n",
    "grouped_df = orig.groupBy(\n",
    "    \"fb_domain\", \"fb_address\", \"fb_city\", \"fb_country_code\", \"fb_country_name\",\n",
    "    \"fb_name\", \"fb_phone\", \"fb_region_code\", \"fb_region_name\", \"fb_zip_code\",\n",
    "    \"gg_domain\", \"gg_address\", \"gg_city\", \"gg_country_code\", \"gg_country_name\",\n",
    "    \"gg_name\", \"gg_phone\", \"gg_region_code\", \"gg_region_name\", \"gg_zip_code\", \n",
    "    \"gg_raw_address\", \"vector\"\n",
    ").agg(\n",
    "    # Concatenate unique categories from both fb_category and gg_category with \"&\" separator\n",
    "    F.concat_ws(\" & \", F.collect_set(\"fb_category\")).alias(\"categories\"),\n",
    ")\n",
    "\n",
    "# Show the result\n",
    "grouped_df.show(truncate=False)\n",
    "\n"
   ]
  },
  {
   "cell_type": "code",
   "execution_count": null,
   "metadata": {},
   "outputs": [
    {
     "name": "stdout",
     "output_type": "stream",
     "text": [
      "23/10/29 13:42:05 WARN TaskSetManager: Stage 193 contains a task of very large size (4631 KiB). The maximum recommended task size is 1000 KiB.\n"
     ]
    },
    {
     "name": "stderr",
     "output_type": "stream",
     "text": [
      "[Stage 193:====================================================>  (23 + 1) / 24]\r"
     ]
    },
    {
     "name": "stdout",
     "output_type": "stream",
     "text": [
      "+-------------------------------+------------------------------------------------------------------------------------------------+------------------------+---------------+---------------+------------------------------------------------------------+-----------+--------------+-----------------------+-----------+-------------------------------+-------------------------------------------------------------------------------+------------------------+---------------+---------------+-------------------------------------------------------------+------------+--------------+-----------------------+-----------+-------------------------------------------------------------------------------+------------------+-------------------------------------------+\n",
      "|fb_domain                      |fb_address                                                                                      |fb_city                 |fb_country_code|fb_country_name|fb_name                                                     |fb_phone   |fb_region_code|fb_region_name         |fb_zip_code|gg_domain                      |gg_address                                                                     |gg_city                 |gg_country_code|gg_country_name|gg_name                                                      |gg_phone    |gg_region_code|gg_region_name         |gg_zip_code|gg_raw_address                                                                 |vector            |categories                                 |\n",
      "+-------------------------------+------------------------------------------------------------------------------------------------+------------------------+---------------+---------------+------------------------------------------------------------+-----------+--------------+-----------------------+-----------+-------------------------------+-------------------------------------------------------------------------------+------------------------+---------------+---------------+-------------------------------------------------------------+------------+--------------+-----------------------+-----------+-------------------------------------------------------------------------------+------------------+-------------------------------------------+\n",
      "|koruma.com                     |deniz mah. petrol ofisi cad. no:43 derince / kocaeli̇                                           |derince                 |tr             |turkey         |koruma klor alkali sanayi ve ticaret a.ş.                   |null       |41            |kocaeli                |null       |koruma.com                     |deniz, petrol ofisi cd. no:43, 41900 derince/kocaeli, turkey                   |derince                 |tr             |turkey         |koruma klor alkali san. ve tic. a.ş.                         |902622392270|41            |kocaeli                |41900      |derince/kocaeli, turkey                                                        |0.900068461894989 |chemicals                                  |\n",
      "|lighthouse-realestate.ca       |17 may st, k0m1n0, fenelon falls, on, canada, ontario                                           |fenelon falls           |ca             |canada         |lighthouse real estate limited                              |17058875252|on            |ontario                |k0m1n0     |lighthouse-realestate.ca       |fenelon falls, on, canada                                                      |fenelon falls           |ca             |canada         |lighthouse real estate ltd. brokerage                        |17058875252 |on            |ontario                |null       |fenelon falls, on, canada                                                      |0.9000858664512634|managers & real estate - agents            |\n",
      "|laportesnursery.ca             |1054 lakeshore drive, p1a 2h3, north bay, on, canada, ontario                                   |north bay               |ca             |canada         |laporte's nursery & greenhouses                             |17054726414|on            |ontario                |p1a 2h3    |laportesnursery.ca             |1054 lakeshore dr, north bay, on p1a 2h3, canada                               |north bay               |ca             |canada         |laporte's nursery & greenhouses inc.                         |17054726414 |on            |ontario                |p1a 2h3    |north bay, on, canada                                                          |0.9000991582870483|stores & plant nurseries                   |\n",
      "|precisionparalegal.ca          |5-5006 south service road, l7l 5y7, burlington, on, canada, ontario                             |burlington              |ca             |canada         |precision paralegal services                                |18665413966|on            |ontario                |l7l 5y7    |precisionparalegal.ca          |10060 jasper ave tower 1, suite 2020, edmonton, ab t5j 3r8, canada             |edmonton                |ca             |canada         |precision paralegal services inc.                            |18665413966 |ab            |alberta                |t5j 3r8    |10060 jasper ave tower 1, suite 2020 · in scotia place                         |0.9001150131225586|general practice attorneys                 |\n",
      "|successimmigration.bc.ca       |1202 fort st., v8v 3k8, victoria, bc, canada, british columbia                                  |victoria                |ca             |canada         |success immigration services ltd.                           |null       |bc            |british columbia       |v8v 3k8    |successimmigration.bc.ca       |920 johnson st, victoria, bc v8v 3n5, canada                                   |victoria                |ca             |canada         |success immigration services                                 |12503619885 |bc            |british columbia       |v8v 3n5    |7+ years in business · 920 johnson st                                          |0.9001341462135315|immigration attorneys                      |\n",
      "|handandstone.ca                |895 lawrence avenue east                          unit 4, m3c 3l2, toronto, on, canada, ontario |null                    |ca             |null           |hand & stone massage and facial spa canada                  |14163318686|null          |null                   |null       |handandstone.ca                |1808 avenue rd, north york, on m5m 3z1, canada                                 |north york              |ca             |canada         |hand & stone massage and facial spa - toronto avenue road spa|16473506608 |on            |ontario                |m5m 3z1    |5+ years in business · north york, on, canada                                  |0.9001464247703552|spa & wellness centers                     |\n",
      "|campanile.com                  |15 - 17 avenue foch, 21000, dijon, france, bourgogne                                            |dijon                   |fr             |france         |hotel campanile dijon centre gare & restaurant \"le comptoir\"|null       |27            |bourgogne-franche-comte|21000      |campanile.com                  |16 avenue raymond poincaré, 21000 dijon, france                                |dijon                   |fr             |france         |hôtel campanile dijon - congrès clémenceau                   |33380711056 |bfc           |bourgogne-franche-comte|21000      |dijon, france                                                                  |0.9001790881156921|hotels                                     |\n",
      "|cactusclubcafe.com             |11130 jasper ave, t5k 0l1, edmonton, ab, canada, alberta                                        |edmonton                |ca             |canada         |cactus club cafe                                            |null       |ab            |alberta                |t5k 0l1    |cactusclubcafe.com             |burnaby, bc, canada                                                            |burnaby                 |ca             |canada         |cactus club cafe kingsway                                    |16044318448 |bc            |british columbia       |v5h 4l3    |burnaby, bc, canada                                                            |0.9002006649971008|restaurants                                |\n",
      "|twisted-fork.ca                |62 main st., l0g 1m0, mount albert, ontario                                                     |null                    |null           |null           |twisted fork restaurant                                     |null       |null          |null                   |null       |twisted-fork.ca                |mount albert, on, canada                                                       |mount albert            |ca             |canada         |twisted fork restaurant & catering inc                       |19054731111 |on            |ontario                |null       |mount albert, on, canada                                                       |0.9002123475074768|restaurants                                |\n",
      "|melissaconnickschoolofdance.com|null                                                                                            |null                    |ca             |null           |melissa connick school of dance                             |19028202499|null          |null                   |null       |melissaconnickschoolofdance.com|5181 st margarets bay rd unit #101, upper tantallon, ns b3z 4r4, canada        |upper tantallon         |ca             |canada         |melissa connick school of dance mcsod                        |null        |ns            |nova scotia            |b3z 4r4    |upper tantallon, ns, canada                                                    |0.900253415107727 |schools & dance studios                    |\n",
      "|pinnaclemortgagegroup.ca       |6843 dawson st, niagara falls, on, canada, ontario                                              |niagara falls           |ca             |canada         |pinnacle mortgage group inc. #12644                         |null       |on            |ontario                |null       |pinnaclemortgagegroup.ca       |6843 dawson st, niagara falls, on l2e 7b6, canada                              |niagara falls           |ca             |canada         |pinnacle mortgage group inc.                                 |12899321989 |on            |ontario                |l2e 7b6    |5+ years in business · 6843 dawson st                                          |0.9003032445907593|mortgage brokers                           |\n",
      "|nychealthandhospitals.org      |null                                                                                            |null                    |null           |null           |nyc health + hospitals                                      |null       |null          |null                   |null       |nychealthandhospitals.org      |bronx, ny                                                                      |null                    |us             |null           |nyc health + hospitals/gotham health, morrisania             |18446924692 |null          |null                   |null       |bronx, ny                                                                      |0.900324821472168 |physicians & clinics - surgeons            |\n",
      "|homelife.ca                    |823 college street, m6g1c9, toronto, on, canada, ontario                                        |toronto                 |ca             |canada         |homelife regional realty ltd.                               |14165353107|on            |ontario                |m6g1c9     |homelife.ca                    |2565 steeles ave e suite:unit 11, brampton, on l6t 4l6, canada                 |brampton                |ca             |canada         |homelife realty services inc                                 |19057927800 |on            |ontario                |l6t 4l6    |brampton, on, canada · in sacha sauda plaza                                    |0.900372326374054 |managers & real estate - agents            |\n",
      "|homelife.ca                    |823 college street, m6g1c9, toronto, on, canada, ontario                                        |toronto                 |ca             |canada         |homelife regional realty ltd.                               |14165353107|on            |ontario                |m6g1c9     |homelife.ca                    |3+ years in business · north york, on, canada                                  |north york              |ca             |canada         |homelife realty services inc.                                |18006680186 |on            |ontario                |null       |3+ years in business · north york, on, canada                                  |0.9003874659538269|managers & real estate - agents            |\n",
      "|winnipegsmp.com                |3 torrington road, r3y 1b4, winnipeg, mb, canada, manitoba                                      |winnipeg                |ca             |canada         |prairie esthetics studio - tammy zegalski                   |12049990229|mb            |manitoba               |r3y 1b4    |facebook.com                   |3 torrington rd, winnipeg, mb r3y 1b4, canada                                  |winnipeg                |ca             |canada         |prairie esthetics studio                                     |12049990229 |mb            |manitoba               |r3y 1b4    |5+ years in business · 3 torrington rd                                         |0.9003905653953552|beauty salons                              |\n",
      "|expertins.ca                   |main floor, 155 carlton street, r3c 3h8, winnipeg, mb, canada, manitoba                         |winnipeg                |ca             |canada         |expert insurance services ltd.                              |12049440249|mb            |manitoba               |r3c 3h8    |expertins.ca                   |155 carlton st, winnipeg, mb r3c 3h8, canada                                   |winnipeg                |ca             |canada         |expert insurance services                                    |12049440249 |mb            |manitoba               |r3c 3h8    |155 carlton st                                                                 |0.9004164338111877|insurance -  agents                        |\n",
      "|we-haul.ca                     |102 clouston avenue, m9n 1a7, toronto, on, canada, ontario                                      |null                    |ca             |null           |we-haul disposal services                                   |16474445865|null          |null                   |null       |we-haul.ca                     |69 sixteenth st, etobicoke, on m8v 3j9, canada                                 |etobicoke               |ca             |canada         |we-haul disposal services inc                                |16474445865 |on            |ontario                |m8v 3j9    |etobicoke, on, canada                                                          |0.9004396796226501|garbage collection & waste disposal        |\n",
      "|lebeau.ca                      |313, bethany, j8h 2n1, lachute, qc, canada, quebec                                              |lachute                 |ca             |canada         |lebeau vitres d'autos                                       |null       |qc            |quebec                 |j8h 2n1    |lebeau.ca                      |313 avenue béthany, lachute, qc j8h 2n1, canada                                |lachute                 |ca             |canada         |lebeau vitres d'autos lachute                                |14505621812 |qc            |quebec                 |j8h 2n1    |7+ years in business · lachute, quebec, canada                                 |0.9004687070846558|auto glass stores                          |\n",
      "|adfgroup.com                   |300 rue henry-bessemer, j6y1t3, terrebonne, qc, canada, quebec                                  |terrebonne              |ca             |canada         |groupe adf inc.                                             |null       |qc            |quebec                 |null       |adfgroup.com                   |300 rue henry bessemer, terrebonne, quebec j6y 1t3, canada                     |terrebonne              |ca             |canada         |adf group inc.                                               |14509651911 |qc            |quebec                 |j6y 1t3    |terrebonne, quebec, canada                                                     |0.9004701375961304|metal fabrication services                 |\n",
      "|salvationarmyusa.org           |null                                                                                            |null                    |null           |null           |the salvation army usa                                      |null       |null          |null                   |null       |salvationarmyusa.org           |3729 w chicago, detroit, mi 48206                                              |detroit                 |us             |united states  |salvation army                                               |13138972914 |mi            |michigan               |48206      |detroit, mi                                                                    |0.9004753232002258|ngos & social services                     |\n",
      "|novatekwelding.ca              |34 cowansview road, n1r 7n3, cambridge, on, canada, ontario                                     |cambridge               |ca             |canada         |novatek welding                                             |15196236461|on            |ontario                |n1r 7n3    |novatekwelding.ca              |75 moorefield st unit #2, cambridge, on n1t 1s2, canada                        |cambridge               |ca             |canada         |novatek welding & fabricating                                |15196236461 |on            |ontario                |n1t 1s2    |cambridge, on, canada                                                          |0.9005580544471741|metal fabrication services                 |\n",
      "|carolsqualitysweets.com        |12519 102 ave, t5n 0m4, edmonton, ab, canada, alberta                                           |edmonton                |ca             |canada         |carol's quality sweets                                      |17804338650|ab            |alberta                |t5n 0m4    |carolsqualitysweets.com        |12519 102 ave, edmonton, ab t5n 0m3, canada                                    |edmonton                |ca             |canada         |carol's quality sweets ltd                                   |17804338650 |ab            |alberta                |t5n 0m3    |edmonton, ab, canada                                                           |0.9005687832832336|bakeries & desserts                        |\n",
      "|dallasfertility.com            |5477 glen lakes dr, ste 200, 75231, dallas, tx, us, texas                                       |dallas                  |us             |united states  |dallas - fort worth fertility associates                    |12143635965|tx            |texas                  |75231      |dallasfertility.com            |b-, 7777 forest ln #443, dallas, tx 75230                                      |dallas                  |us             |united states  |dallas - fort worth fertility, medical city                  |12146924577 |tx            |texas                  |75230      |dallas, tx                                                                     |0.9005698561668396|fertility                                  |\n",
      "|waterloobrewing.com            |400 bingemans centre drive, n2b 3x9, kitchener, on, canada, ontario                             |kitchener               |ca             |canada         |waterloo brewing                                            |15197422732|on            |ontario                |n2b 3x9    |waterloobrewing.com            |400 bingemans centre dr, kitchener, on n2b 3x9, canada                         |kitchener               |ca             |canada         |waterloo brewing beer store                                  |15197422732 |on            |ontario                |n2b 3x9    |kitchener, on, canada                                                          |0.900650680065155 |breweries                                  |\n",
      "|ironxfitness.ca                |null                                                                                            |null                    |ca             |null           |iron x fitness inc.                                         |16138977653|null          |null                   |null       |ironxfitness.ca                |85 plymouth st b001                                                            |ottawa                  |ca             |canada         |iron x fitness                                               |16138977653 |on            |ontario                |null       |85 plymouth st b001                                                            |0.9006787538528442|schools & dance studios                    |\n",
      "|casellerscleaningservices.ca   |115 high st, l0e 1r0, sutton west, on, canada, ontario                                          |sutton west             |ca             |canada         |c.a sellers cleaning services ltd                           |12895769744|on            |ontario                |l0e 1r0    |casellerscleaningservices.ca   |418 kawartha lakes county rd 36, lindsay, on k9v 4r3, canada                   |lindsay                 |ca             |canada         |c.a sellers cleaning services                                |null        |on            |ontario                |k9v 4r3    |lindsay, on, canada                                                            |0.9007450938224792|industrial cleaning & office               |\n",
      "|koreanair.com                  |null                                                                                            |null                    |kr             |null           |korean air                                                  |82226562001|null          |null                   |null       |koreanair.com                  |5+ years in business · north york, on, canada · in yonge sheppard centre       |north york              |ca             |canada         |korean airlines                                              |14168622555 |on            |ontario                |96819      |5+ years in business · north york, on, canada · in yonge sheppard centre       |0.9007578492164612|airline companies                          |\n",
      "|lamaindorsalon.com             |444 yonge st, m5b 2h4, toronto, on, canada, ontario                                             |toronto                 |ca             |canada         |la main d'or salon spa                                      |14165951069|on            |ontario                |m5b 2h4    |lamaindorsalon.com             |444 yonge st, toronto, on m5b 2h4, canada                                      |toronto                 |ca             |canada         |la main d'or hair salon                                      |14165951069 |on            |ontario                |m5b 2h4    |7+ years in business · 444 yonge st                                            |0.9007729887962341|beauty salons                              |\n",
      "|ashbridgesbayanimalhospital.ca |null                                                                                            |null                    |ca             |null           |ashbridge's bay animal hospital toronto                     |14169157387|null          |null                   |null       |ashbridgesbayanimalhospital.ca |1392 gerrard st e, toronto, on m4l 1z4, canada                                 |toronto                 |ca             |canada         |ashbridges bay animal hospital                               |14169157387 |on            |ontario                |m4l 1z4    |10+ years in business · 1392 gerrard st e                                      |0.9007800817489624|animal hospitals & veterinarians           |\n",
      "|weirbrosroofing.com            |5480 jones baseline, n1h 6j1, guelph, on, canada, ontario                                       |guelph                  |ca             |canada         |weir bros. roofing                                          |15198312002|on            |ontario                |n1h 6j1    |weirbrosroofing.com            |5480 jones baseline, guelph, on n1h 6j1, canada                                |guelph                  |ca             |canada         |weir bros. roofing inc.                                      |15198312002 |on            |ontario                |n1h 6j1    |guelph, on, canada                                                             |0.9007854461669922|roofing contractors                        |\n",
      "|healthmaxphysio.com            |1401 ellesmere road #104, scarborough, on, m1p 4r4, toronto, on, canada, ontario                |scarborough             |ca             |canada         |healthmax physiotherapy scarborough                         |14164314000|on            |ontario                |m1p 4r4    |healthmaxphysio.com            |298 john st #3, thornhill, on l3t 5w4, canada                                  |thornhill               |ca             |canada         |healthmax physiotherapy - thornhill                          |16474903843 |on            |ontario                |l3t 5w4    |thornhill, on, canada                                                          |0.9007996916770935|physical therapy & sports medicine         |\n",
      "|magogconceptchrysler.com       |3025 rue sherbrooke, j1x4g6, magog, qc, canada, quebec                                          |magog                   |ca             |canada         |magog concept chrysler inc.                                 |18198433380|qc            |quebec                 |j1x4g6     |magogconceptchrysler.com       |3025 rue sherbrooke, magog, quebec j1x 4g6, canada                             |magog                   |ca             |canada         |magog concept chrysler                                       |18198433380 |qc            |quebec                 |j1x 4g6    |magog, quebec, canada                                                          |0.9008045792579651|manufacturers & automobile dealers         |\n",
      "|ipfund.ca                      |359 kent street, suite 503, k2p 0r6, ottawa, on, canada, ontario                                |ottawa                  |ca             |canada         |investment partners fund inc.                               |16136883858|on            |ontario                |k2p 0r6    |ipfund.ca                      |359 kent st #503, ottawa, on k2p 0r6, canada                                   |ottawa                  |ca             |canada         |the investment partners fund                                 |16136883858 |on            |ontario                |k2p 0r6    |7+ years in business · 359 kent st #503                                        |0.9008150100708008|investment consultants & financial advisors|\n",
      "|silvertulipboutique.ca         |177 main street lower level, l3r2g9, unionville, on, canada, ontario                            |unionville              |ca             |canada         |silver tulip boutique                                       |14167350540|on            |ontario                |l3r2g9     |silvertulipboutique.ca         |unionville, on, canada                                                         |unionville              |ca             |canada         |silver tulip boutique inc                                    |14167350540 |on            |ontario                |null       |unionville, on, canada                                                         |0.9008468389511108|clothing stores                            |\n",
      "|era.com.sg                     |450 lorong 6 toa payoh, 319394, singapore, singapore, singapore                                 |null                    |sg             |singapore      |era realty network private limited singapore                |null       |null          |null                   |null       |era.com.sg                     |450 lor 6 toa payoh, era apac centre · in toa payoh mall                       |null                    |sg             |null           |era realty network pte ltd                                   |6562262000  |null          |null                   |null       |450 lor 6 toa payoh, era apac centre · in toa payoh mall                       |0.9008598327636719|managers & real estate - agents            |\n",
      "|powellbuildings.com            |powell & co construction ltd, longmoor, shirlheath, kingsland,, hr6 9rg, leominster, uk, england|leominster              |gb             |united kingdom |powell & co                                                 |null       |eng           |england                |hr6 9rg    |powellbuildings.com            |longmoor, leominster hr6 9rg, united kingdom                                   |leominster              |gb             |united kingdom |powell & co ltd                                              |441568708819|eng           |england                |hr6 9rg    |7+ years in business · leominster, united kingdom                              |0.9008732438087463|construction services                      |\n",
      "|noctem.ca                      |438 du parvis, g1k 6h8, quebec, qc, canada, quebec                                              |quebec                  |ca             |canada         |noctem artisans brasseurs                                   |15817427979|qc            |quebec                 |g1k 6h8    |noctem.ca                      |1095 rue vincent-massey suite 8, quebec city, quebec g1n 1n2, canada           |quebec                  |ca             |canada         |noctem artisans brasseurs - brasserie st-malo                |14187042428 |qc            |quebec                 |g1n 1n2    |null                                                                           |0.9008747935295105|breweries                                  |\n",
      "|h-hotels.com                   |truderingerstraße 13, 81677, munich, germany, bayern                                            |null                    |null           |null           |hyperion hotel münchen                                      |null       |null          |null                   |null       |h-hotels.com                   |amsinckstraße 39, 20097 hamburg, germany                                       |hamburg                 |de             |germany        |hyperion hotel hamburg                                       |49404142000 |hh            |hamburg                |20097      |hamburg, germany                                                               |0.9008848071098328|hotels                                     |\n",
      "|lartdumassage.com              |null                                                                                            |null                    |ca             |null           |l'art du massage raynald feeney inc.                        |14503411570|null          |null                   |null       |lartdumassage.com              |207 sir-w laurier suite e, beloeil, qc j3g 4g8, canada                         |beloeil                 |ca             |canada         |art du massage raynald feeney inc                            |14503411570 |qc            |quebec                 |j3g 4g8    |beloeil, quebec, canada · in maxi                                              |0.9008992910385132|spa & wellness centers                     |\n",
      "|merseyheating.ca               |1960 ellesmere road, unit 6, m1h 2v9, toronto, on, canada, ontario                              |null                    |null           |null           |mersey heating and air conditioning                         |null       |null          |null                   |null       |merseyheating.ca               |vaughan, on, canada · in eyes child care inc.                                  |null                    |ca             |null           |mersey heating                                               |16474849078 |null          |null                   |null       |vaughan, on, canada · in eyes child care inc.                                  |0.9009090065956116|heating & air conditioning                 |\n",
      "|fsjfs.ca                       |10208 95 ave, v1j 1j2, fort saint john, bc, canada, british columbia                            |null                    |ca             |null           |fort st john friendship center                              |12507858566|null          |null                   |null       |fsjfs.ca                       |10208 95 ave, fort st john, bc v1j 1j2, canada                                 |fort st. john           |ca             |canada         |fort st john friendship society                              |12507858566 |bc            |british columbia       |v1j 1j2    |10208 95 ave                                                                   |0.9009296894073486|ngos & social services                     |\n",
      "|handandstone.ca                |895 lawrence avenue east                          unit 4, m3c 3l2, toronto, on, canada, ontario |null                    |ca             |null           |hand & stone massage and facial spa canada                  |14163318686|null          |null                   |null       |handandstone.ca                |1476 dundas street east units 9 & 10, mississauga, on l4x 1l4, canada          |mississauga             |ca             |canada         |hand & stone massage and facial spa - mississauga dixie      |19052811888 |on            |ontario                |l4x 1l4    |mississauga, on, canada · in creekside crossing                                |0.900992751121521 |spa & wellness centers                     |\n",
      "|prolevellooks.ca               |#105 10507 - 100 ave, morinville, ab, canada, alberta                                           |morinville              |ca             |canada         |pro-level looks hair studio                                 |17809390707|ab            |alberta                |null       |prolevellooks.ca               |10507 100 ave, morinville, ab t8r 1a2, canada                                  |morinville              |ca             |canada         |pro-level looks hair studio & spa                            |17809390707 |ab            |alberta                |t8r 1a2    |5+ years in business · morinville, ab, canada                                  |0.9010253548622131|hair salons                                |\n",
      "|lcms.org                       |1333 s kirkwood rd, 63122, kirkwood, mo, missouri                                               |null                    |us             |null           |the lutheran church—missouri synod                          |18888435267|null          |null                   |null       |lcms.org                       |2601 23rd ave s, fargo, nd 58103, united states                                |fargo                   |us             |united states  |lutheran church missouri synod                               |17012939001 |nd            |north dakota           |58103      |fargo, nd, united states                                                       |0.901025652885437 |religious organizations & churches         |\n",
      "|alpinecatering.ca              |null                                                                                            |null                    |ca             |null           |alpine catering                                             |14032796664|null          |null                   |null       |alpinecatering.ca              |3513 d, 78 ave se, calgary, ab t2c 1j7, canada                                 |calgary                 |ca             |canada         |alpine catering ltd.                                         |14032796664 |ab            |alberta                |t2c 1j7    |40+ years in business · calgary, ab, canada                                    |0.9010888338088989|delivery & catering                        |\n",
      "|firstcircle.ca                 |401 – 224 west esplanade, v7m 1a4, north vancouver, bc, canada, british columbia                |north vancouver         |ca             |canada         |first circle financial                                      |16049863200|bc            |british columbia       |v7m 1a4    |firstcircle.ca                 |224 esplanade w #401, north vancouver, bc v7m 1a4, canada                      |north vancouver         |ca             |canada         |first circle financial services ltd                          |16049863200 |bc            |british columbia       |v7m 1a4    |north vancouver, bc, canada                                                    |0.9011202454566956|mortgage brokers                           |\n",
      "|kabanmontessori.ca             |2449 dunwin dr, l5l 1t1, mississauga, on, canada, ontario                                       |mississauga             |ca             |canada         |kaban montessori school                                     |19055693112|on            |ontario                |l5l 1t1    |kabanmontessori.ca             |2449 dunwin dr, mississauga, on l5l 1t1, canada                                |mississauga             |ca             |canada         |kaban montessori inc                                         |19055693112 |on            |ontario                |l5l 1t1    |mississauga, on, canada                                                        |0.9011548161506653|kindergartens & preschools                 |\n",
      "|mortgagearchitects.ca          |null                                                                                            |null                    |ca             |null           |mortgage architects                                         |19055429100|null          |null                   |null       |mortgagearchitects.ca          |2205 blvd. cote-vertu ouest, saint-laurent, quebec h4r 1n8, canada             |saint-laurent           |ca             |canada         |mortgage architects inc                                      |15143369864 |qc            |quebec                 |h4r 1n8    |saint-laurent, quebec, canada                                                  |0.9011976718902588|mortgage brokers                           |\n",
      "|siemens-energy.com             |null                                                                                            |null                    |null           |null           |siemens energy                                              |null       |null          |null                   |null       |siemens-energy.com             |wolfgang-reuter-platz 2, 47053 duisburg, germany                               |duisburg                |de             |germany        |siemens energy global gmbh & co. kg                          |492036050   |nw            |north rhine-westphalia |47053      |null                                                                           |0.901292085647583 |industrial machinery & supplies            |\n",
      "|nuh.com.sg                     |5 lower kent ridge road, 119074, singapore, singapore, singapore                                |null                    |sg             |singapore      |national university hospital - nuh                          |null       |null          |null                   |119074     |nuh.com.sg                     |null                                                                           |null                    |sg             |null           |the national university hospital                             |6567795555  |null          |null                   |null       |null                                                                           |0.90129554271698  |physicians & clinics - surgeons            |\n",
      "|axisfootclinic.com             |three locations on website, t2a 7x6, calgary, ab, canada, alberta                               |calgary                 |ca             |canada         |axis foot & ankle clinic                                    |14034773338|ab            |alberta                |t2a 7x6    |axisfootclinic.com             |83 deerpoint rd se, calgary, ab t2j 6w5, canada                                |calgary                 |ca             |canada         |axis foot & ankle clinic - deer valley                       |14034773338 |ab            |alberta                |t2j 6w5    |83 deerpoint rd se                                                             |0.9013053774833679|podiatrists                                |\n",
      "|dovercornproducts.com          |285 merritt ave, n7m3g2, chatham, on, canada, ontario                                           |chatham                 |ca             |canada         |dover corn products                                         |15193529710|on            |ontario                |null       |dovercornproducts.com          |285 merritt ave, chatham, on n7m 3g2, canada                                   |chatham                 |ca             |canada         |dover corn products ltd                                      |15193529710 |on            |ontario                |n7m 3g2    |chatham, on, canada                                                            |0.9013127684593201|farms & agriculture production             |\n",
      "|tradewindstours.com            |3 tampines central 1 #02-04 abacus plaza, 529540, singapore, singapore, singapore               |null                    |sg             |singapore      |tradewinds tours & travel pte ltd                           |null       |null          |null                   |529540     |tradewindstours.com            |null                                                                           |null                    |sg             |null           |tradewinds tours & travel pte ltd (abacus plaza)             |6564388822  |null          |null                   |null       |null                                                                           |0.9013155102729797|travel agencies                            |\n",
      "|westmetrofire.org              |433 s allison pkwy, 80226, lakewood, co, colorado                                               |null                    |null           |null           |west metro fire rescue                                      |null       |null          |null                   |null       |westmetrofire.org              |10901 w 38th ave, wheat ridge, co 80033, united states                         |wheat ridge             |us             |united states  |west metro fire rescue station 17                            |13039894307 |co            |colorado               |80033      |wheat ridge, co, united states                                                 |0.9013941884040833|fire protection & fire departments         |\n",
      "|littletotsmanor.com            |211 belsize drive, m4s 1m3, toronto, on, canada, ontario                                        |toronto                 |ca             |canada         |little tots' manor inc.                                     |null       |on            |ontario                |m4s 1m3    |littletotsmanor.com            |376 balliol st, toronto, on m4s 1e2, canada                                    |toronto                 |ca             |canada         |little tots' manor inc. 2                                    |14164895515 |on            |ontario                |m4s 1e2    |376 balliol st                                                                 |0.9014266133308411|kindergartens & preschools                 |\n",
      "|highlandpackers.com            |432 highland road east, l8j 3g4, stoney creek, on, canada, ontario                              |stoney creek            |ca             |canada         |highland packers ltd.                                       |19056628396|on            |ontario                |null       |highlandpackers.com            |432 highland rd e, stoney creek, on l8j 3g4, canada                            |stoney creek            |ca             |canada         |highland packers ltd / highland country markets              |19056628396 |on            |ontario                |l8j 3g4    |stoney creek, on, canada                                                       |0.9014334082603455|meat                                       |\n",
      "|tlip2.com                      |khu công nghiệp thăng long ii, 160000, hung yen, hưng yên province, vietnam, hưng yên province  |hung yen                |vn             |vietnam        |thang long industrial park ii corporation                   |null       |66            |tinh hung yen          |160000     |tlip2.com                      |null                                                                           |null                    |vn             |null           |thang long industrial park ii                                |842213974620|null          |null                   |null       |null                                                                           |0.9014741778373718|industrial machinery & supplies            |\n",
      "|jakit.ca                       |remote, m5s, toronto, on, canada, ontario                                                       |toronto                 |ca             |canada         |jak it & voip services                                      |16474789498|on            |ontario                |null       |jakit.ca                       |toronto, on, canada                                                            |toronto                 |ca             |canada         |jak- it&voip services inc.                                   |16474789498 |on            |ontario                |null       |null                                                                           |0.9014844298362732|service & computer repair                  |\n",
      "|petersenchiro.ca               |null                                                                                            |null                    |ca             |null           |petersen chiropractic - dr. andrea petersen                 |12509409000|null          |null                   |null       |petersenchiro.ca               |2274 queensway #2, prince george, bc v2l 1m6, canada                           |prince george           |ca             |canada         |petersen chiropractic                                        |12509409000 |bc            |british columbia       |v2l 1m6    |prince george, bc, canada                                                      |0.9015024304389954|chiropractors                              |\n",
      "|barcelonatavern.com            |501 - 8th avenue s.w., t2p 1g1, calgary, ab, canada, alberta                                    |calgary                 |ca             |canada         |barcelona tavern hq                                         |null       |ab            |alberta                |t2p 1g1    |barcelonatavern.com            |501 8 ave sw · in eighth avenue place                                          |calgary                 |ca             |canada         |barcelona tavern                                             |14032656555 |ab            |alberta                |t2p 1g1    |501 8 ave sw · in eighth avenue place                                          |0.9015040397644043|restaurants                                |\n",
      "|lakefrontmarine.ca             |2084 manning road, n8n 2l9, tecumseh, on, canada, ontario                                       |tecumseh                |ca             |canada         |lakefront marine inc                                        |15199909991|on            |ontario                |2l9        |lakefrontmarine.ca             |2084 manning rd, tecumseh, on n8n 2l9, canada                                  |tecumseh                |ca             |canada         |lakefront marine                                             |15199909991 |on            |ontario                |n8n 2l9    |tecumseh, on, canada                                                           |0.9016015529632568|boats                                      |\n",
      "|thompsonprint.com              |115 scott ave., n3l 3k4, paris, on, canada, ontario                                             |paris                   |ca             |canada         |thompson printing                                           |null       |on            |ontario                |n3l 3k4    |thompsonprint.com              |115 scott ave, paris, on n3l 3k4, canada                                       |paris                   |ca             |canada         |thompson printing & lithographing                            |15194427804 |on            |ontario                |n3l 3k4    |7+ years in business · paris, on, canada                                       |0.9016088247299194|commercial printing                        |\n",
      "|certocreative.com              |211-334 adelaide street west, m5v 0m1, toronto, on, canada, ontario                             |toronto                 |ca             |canada         |certo creative                                              |16472434710|on            |ontario                |null       |certocreative.com              |334 adelaide st w suite 211, toronto, on m5v 0m1                               |toronto                 |null           |canada         |certo creative inc.                                          |16472434710 |on            |ontario                |m5v 0m1    |3+ years in business · 334 adelaide st w suite 211                             |0.9016370177268982|digital & marketing agencies               |\n",
      "|miltonchrysler.ca              |81 ontario street north, l9t2t2, milton, on, canada, ontario                                    |milton                  |ca             |canada         |milton chrysler                                             |19058788877|on            |ontario                |null       |miltonchrysler.ca              |81 ontario st n, milton, on l9t 2t2, canada                                    |milton                  |ca             |canada         |milton chrysler dodge limited                                |19058788877 |on            |ontario                |l9t 2t2    |81 ontario st n                                                                |0.9016868472099304|manufacturers & automobile dealers         |\n",
      "|worc.ox.ac.uk                  |walton street, ox1 2hb, oxford, uk, england                                                     |oxford                  |gb             |united kingdom |worcester college, oxford                                   |null       |eng           |england                |ox1 2hb    |worc.ox.ac.uk                  |1 walton st, oxford ox1 2hb, united kingdom                                    |oxford                  |gb             |united kingdom |worcester college                                            |441865278300|eng           |england                |ox1 2hb    |oxford, united kingdom · in the university of oxford                           |0.9016897678375244|universities & colleges                    |\n",
      "|oman-arabbank.com              |null                                                                                            |null                    |om             |null           |oman arab bank - بنك عُمان العربي                           |96824754444|null          |null                   |null       |oman-arabbank.com              |sultan qaboos st, muscat, oman                                                 |sohar                   |om             |oman           |oman arab bank                                               |96824754834 |zu            |muscat                 |112        |markzi mutrah al tijari st                                                     |0.9017065763473511|atms & banks                               |\n",
      "|pakmail.com                    |null                                                                                            |null                    |null           |null           |pak mail                                                    |null       |null          |null                   |null       |pakmail.com                    |902 oak tree ave, south plainfield, nj 07080                                   |south plainfield        |us             |united states  |pakmail                                                      |null        |nj            |new jersey             |07080      |south plainfield, nj · in oak tree business center                             |0.9017375707626343|shipping couriers                          |\n",
      "|stjeromechrysler.com           |13 855 rue de la chapelle, j7j 2c9, mirabel, qc, canada, quebec                                 |mirabel                 |ca             |canada         |st-jérôme chrysler jeep dodge ram fiat - groupe carbur      |14504362200|qc            |quebec                 |j7j 2c9    |stjeromechrysler.com           |13855 rue de la chapelle, mirabel, quebec j7j 2c9, canada                      |mirabel                 |ca             |canada         |st-jérôme chrysler jeep dodge ram fiat                       |14504362200 |qc            |quebec                 |j7j 2c9    |mirabel, quebec, canada                                                        |0.9017501473426819|manufacturers & automobile dealers         |\n",
      "|portofinobakery.ca             |6828 kirkpatrick crescent, v8m 1z9, victoria, bc, canada, british columbia                      |victoria                |ca             |canada         |portofino bakery                                            |12504756099|bc            |british columbia       |null       |portofinobakery.ca             |saanichton, bc, canada                                                         |saanichton              |ca             |canada         |portofino wholesale bakery                                   |12504756099 |bc            |british columbia       |null       |saanichton, bc, canada                                                         |0.9017603397369385|bakeries & desserts                        |\n",
      "|memorylanecampground.ca        |56309 range road 13, t0e 1v0                                                                    |null                    |null           |null           |memory lane campground and rv park                          |null       |null          |null                   |null       |memorylanecampground.ca        |onoway, ab, canada                                                             |onoway                  |ca             |canada         |memory lane campground and rv park inc.                      |17809955555 |ab            |alberta                |null       |onoway, ab, canada                                                             |0.9017759561538696|rv parks & campgrounds                     |\n",
      "|geeksinorange.com              |10612 172 st nw, t5s1h8, edmonton, ab, canada, alberta                                          |edmonton                |ca             |canada         |geeks in orange                                             |null       |ab            |alberta                |null       |geeksinorange.com              |10612 172 st nw, edmonton, ab t5s 1h8, canada                                  |edmonton                |ca             |canada         |geeks in orange inc.                                         |15874040704 |ab            |alberta                |t5s 1h8    |edmonton, ab, canada                                                           |0.9018415808677673|service & computer repair                  |\n",
      "|wisehealthclinics.com          |null                                                                                            |null                    |null           |null           |wise health clinics                                         |null       |null          |null                   |null       |wisehealthclinics.com          |2000 south, fm 51 suite d, decatur, tx 76234                                   |decatur                 |us             |united states  |wise health clinics - community health clinic                |19406263888 |tx            |texas                  |76234      |decatur, tx                                                                    |0.901871383190155 |physicians & clinics - surgeons            |\n",
      "|riortho.com                    |null                                                                                            |null                    |null           |null           |ri orthodontic group                                        |null       |null          |null                   |null       |riortho.com                    |320 phillips st, north kingstown, ri 02852                                     |north kingstown         |us             |united states  |rhode island orthodontic group                               |14017821221 |ri            |rhode island           |02852      |north kingstown, ri                                                            |0.9018879532814026|dentists & dental clinics                  |\n",
      "|heritagecellars.com            |null                                                                                            |null                    |ca             |null           |heritage cellars                                            |16473133313|null          |null                   |null       |heritagecellars.com            |erin, on, canada                                                               |erin                    |ca             |canada         |heritage cellars ltd.                                        |16473133313 |on            |ontario                |null       |erin, on, canada                                                               |0.9019075632095337|wineries & wine shops                      |\n",
      "|oakhillenvironmental.com       |16 walnut street, l2t 1h3, saint catharines, on, canada, ontario                                |null                    |null           |null           |oakhill environmental inc.                                  |null       |null          |null                   |null       |oakhillenvironmental.com       |16 walnut st, st. catharines, on l2t 1h3, canada                               |st. catharines          |ca             |canada         |oakhill environmental                                        |19059881243 |on            |ontario                |l2t 1h3    |16 walnut st                                                                   |0.9019079804420471|environmental engineering services         |\n",
      "|pepperjazz.ca                  |null                                                                                            |null                    |ca             |null           |pepper jazz catering                                        |16472986059|null          |null                   |null       |pepperjazz.ca                  |whitchurch-stouffville, on l4a 2t1, canada                                     |whitchurch-stouffville  |ca             |canada         |pepper jazz catering corp.                                   |16472986059 |on            |ontario                |l4a 2t1    |whitchurch-stouffville, on, canada                                             |0.9019213914871216|delivery & catering                        |\n",
      "|osmondlange.co.za              |unit 3, ground floor, building 3, melrose boulevard, 2076, johannesburg, south africa, gauteng  |johannesburg            |za             |south africa   |osmond lange architects & planners                          |null       |gt            |gauteng                |2076       |osmondlange.co.za              |3 melrose blvd, melrose north, johannesburg, 2196, south africa                |johannesburg            |za             |south africa   |osmond lange architects & planners (pty) ltd                 |27119944300 |gt            |gauteng                |2196       |3 melrose blvd · in the melrose arch                                           |0.90192711353302  |architects & architectural services        |\n",
      "|ohswa.org                      |80 leland avenue extension, utica, ny, new york                                                 |null                    |us             |null           |oneida-herkimer solid waste authority                       |13157331224|null          |null                   |null       |ohswa.org                      |80 leland ave, utica, ny 13502                                                 |utica                   |us             |united states  |oneida-herkimer solid waste authority recycling center       |13157331224 |ny            |new york               |13502      |utica, ny                                                                      |0.9019481539726257|garbage collection & waste disposal        |\n",
      "|amazinghvac.com                |2630 georgetown road, 21230, baltimore, md, maryland                                            |baltimore               |us             |united states  |amazing hvac, inc.                                          |14108344693|md            |maryland               |21230      |amazinghvac.com                |2630 georgetown rd, baltimore, md 21230                                        |baltimore               |us             |united states  |amazing heating & air conditioning, inc                      |14106850383 |md            |maryland               |21230      |15+ years in business · baltimore, md                                          |0.9020050764083862|heating & air conditioning                 |\n",
      "|chinookrehab.com               |unit: 103, 5940 macleod trail sw, t2h2g4, calgary, ab, canada, alberta                          |calgary                 |ca             |canada         |chinook rehab centre  physio / chiro /massage / acupuncture |15873927777|ab            |alberta                |null       |chinookrehab.com               |5940 macleod trail sw #103, calgary, ab t2h 2g4, canada                        |calgary                 |ca             |canada         |chinook rehab centre physiotherapy & massage                 |15873927777 |ab            |alberta                |t2h 2g4    |calgary, ab, canada                                                            |0.9020057916641235|physical therapy & sports medicine         |\n",
      "|ashridgevehicles.co.uk         |ashridge vehicles ltd, hp4 1qp                                                                  |null                    |null           |null           |ashridge vehicles ltd                                       |null       |null          |null                   |null       |ashridgevehicles.co.uk         |little gaddesden, berkhamsted hp4 1qp, united kingdom                          |berkhamsted             |gb             |united kingdom |ashridge vehicles                                            |441442843884|eng           |england                |hp4 1qp    |berkhamsted, united kingdom                                                    |0.9020113348960876|manufacturers & automobile dealers         |\n",
      "|northernstarsgymnastics.com    |27 hooper road, unit 9, l4n 9s3, barrie, on, canada, ontario                                    |barrie                  |ca             |canada         |northern stars gymnastics                                   |17057196461|on            |ontario                |l4n 9s3    |northernstarsgymnastics.com    |27 hooper rd, barrie, on l4n 9s3, canada                                       |barrie                  |ca             |canada         |northern stars gymnastics inc                                |17057196461 |on            |ontario                |l4n 9s3    |7+ years in business · barrie, on, canada                                      |0.9020124673843384|gymnastics                                 |\n",
      "|intrendmortgage.com            |1550 16th avenue building c north, l4b 3k9, richmond hill, on, canada, ontario                  |richmond hill           |ca             |canada         |intrend mortgage inc.                                       |19057808988|on            |ontario                |l4b 3k9    |intrendmortgage.com            |113 main st n, markham, on l3p 1x8, canada                                     |markham                 |ca             |canada         |intrend mortgage inc. - main street office                   |19054158488 |on            |ontario                |l3p 1x8    |113 main st n                                                                  |0.9020523428916931|mortgage brokers                           |\n",
      "|watsonscatering.com            |1 glenville st, 06831, greenwich, ct, connecticut                                               |greenwich               |us             |united states  |watson's catering and events                                |12035320132|ct            |connecticut            |06831      |watsonscatering.com            |1 glenville st, greenwich, ct 06831                                            |greenwich               |us             |united states  |watson's catering                                            |12035320132 |ct            |connecticut            |06831      |7+ years in business · greenwich, ct                                           |0.9020935893058777|delivery & catering                        |\n",
      "|equusfabrics.com               |190 millway ave., unit 2, l4k 3w4, vaughan, on, canada, ontario                                 |null                    |ca             |null           |equus fabrics                                               |19057619153|null          |null                   |null       |equusfabrics.com               |190 millway av, concord, on l4k 3w4, canada                                    |concord                 |ca             |canada         |equus fabrics inc                                            |19057619153 |on            |ontario                |l4k 3w4    |concord, on, canada                                                            |0.9021271467208862|fabric-based home goods                    |\n",
      "|translucentcomputing.com       |1 yonge st, m5e 1e5, toronto, on, canada, ontario                                               |toronto                 |ca             |canada         |translucent computing inc                                   |18888280144|on            |ontario                |m5e 1e5    |translucentcomputing.com       |1 yonge st, toronto, on m5e 1e5, canada                                        |toronto                 |ca             |canada         |translucent computing                                        |18888280144 |on            |ontario                |m5e 1e5    |toronto, on, canada                                                            |0.9021416306495667|software development services              |\n",
      "|handandstone.ca                |895 lawrence avenue east                          unit 4, m3c 3l2, toronto, on, canada, ontario |null                    |ca             |null           |hand & stone massage and facial spa canada                  |14163318686|null          |null                   |null       |handandstone.ca                |1615 orléans blvd, orléans, on k1c 7e2, canada                                 |orleans                 |ca             |canada         |hand & stone massage and facial spa - ottawa orleans         |16134246067 |on            |ontario                |k1c 7e2    |5+ years in business · orléans, on, canada · in orléans gardens                |0.9021608233451843|spa & wellness centers                     |\n",
      "|bendunnegyms.com               |null                                                                                            |null                    |null           |null           |ben dunne gyms                                              |null       |null          |null                   |null       |bendunnegyms.com               |blanchardstown, dublin, d15 x624, ireland                                      |blanchardstown          |null           |ireland        |ben dunne gym westpoint                                      |null        |l             |leinster               |d15        |in the blanchardstown centre                                                   |0.9021853804588318|fitness & health centers                   |\n",
      "|taylorsestateagents.co.uk      |3 shannon court, high street, sg19 1ag, sandy, uk, england                                      |sandy                   |gb             |united kingdom |taylors estate and lettings agents                          |null       |eng           |england                |sg19 1ag   |taylorsestateagents.co.uk      |13 queensway, stevenage sg1 1da, united kingdom                                |stevenage               |gb             |united kingdom |taylors sales and letting agents stevenage                   |441438420115|eng           |england                |sg1 1da    |stevenage, united kingdom                                                      |0.9022814631462097|managers & real estate - agents            |\n",
      "|farquharsonrealty.com          |6223 main street, l4a 4j3, stouffville, on, canada, ontario                                     |stouffville             |ca             |canada         |farquharson realty ltd                                      |19056404151|on            |ontario                |l4a 4j3    |farquharsonrealty.com          |6223 main st, whitchurch-stouffville, on l4a 3r4, canada                       |whitchurch-stouffville  |ca             |canada         |farquharson realty ltd., brokerage                           |19056404151 |on            |ontario                |l4a 3r4    |whitchurch-stouffville, on, canada                                             |0.9023091793060303|managers & real estate - agents            |\n",
      "|willowgroup.ca                 |null                                                                                            |null                    |null           |null           |willowcreek contracting                                     |null       |null          |null                   |null       |willowgroup.ca                 |25 waterman ave #25, east york, on m4b 1y6, canada                             |east york               |ca             |canada         |willowcreek contracting ltd                                  |18669237366 |on            |ontario                |m4b 1y6    |7+ years in business · east york, on, canada                                   |0.9023136496543884|construction services                      |\n",
      "|boulaiscpa.com                 |606, rue champlain, suite 202, j3b 6x1, saint-jean-sur-richelieu, qc, canada, quebec            |saint-jean-sur-richelieu|ca             |canada         |boulais cpa                                                 |null       |qc            |quebec                 |j3b 6x1    |boulaiscpa.com                 |606 rue champlain, saint-jean-sur-richelieu, qc j3b 6x1, canada                |saint-jean-sur-richelieu|ca             |canada         |boulais cpa inc.                                             |14503472666 |qc            |quebec                 |j3b 6x1    |saint-jean-sur-richelieu, quebec, canada                                       |0.9023318290710449|tax preparation                            |\n",
      "|bradstowing.ca                 |717 43rd st e, s7k 0v7, saskatoon, sk, canada, saskatchewan                                     |saskatoon               |ca             |canada         |brad's towing                                               |null       |sk            |saskatchewan           |s7k 0v7    |bradstowing.ca                 |717 43 st e, saskatoon, sk s7k 0v7, canada                                     |saskatoon               |ca             |canada         |brad's towing ltd.                                           |13069311221 |sk            |saskatchewan           |s7k 0v7    |717 43 st e · +1 306-931-1221                                                  |0.9023559093475342|roadside assistance & towing wrecking      |\n",
      "|nemosexpresscarwash.com        |2651 north university drive, 33322, sunrise, fl, florida                                        |null                    |null           |null           |nemo's express car wash and detailing                       |null       |null          |null                   |null       |nemosexpresscarwash.com        |sunrise, fl · (954) 741-5116                                                   |sunrise                 |us             |united states  |nemos express car wash and detailing                         |19547415116 |fl            |florida                |null       |sunrise, fl · (954) 741-5116                                                   |0.9023723602294922|car washes                                 |\n",
      "|brassonissan.com               |195 glendeer circle se, t2h 2s8, calgary, ab, canada, alberta                                   |calgary                 |ca             |canada         |brasso nissan                                               |14032535555|ab            |alberta                |null       |brassonissan.com               |195 glendeer cir se, calgary, ab t2h 2s8, canada                               |calgary                 |ca             |canada         |brasso nissan ltd                                            |14032535555 |ab            |alberta                |t2h 2s8    |calgary, ab, canada · in calgary auto mall                                     |0.9023978114128113|manufacturers & automobile dealers         |\n",
      "|cactusclubcafe.com             |11130 jasper ave, t5k 0l1, edmonton, ab, canada, alberta                                        |edmonton                |ca             |canada         |cactus club cafe                                            |null       |ab            |alberta                |t5k 0l1    |cactusclubcafe.com             |178 - 317 7th avenue southwest stephen ave +, 3 st sw · in core shopping centre|null                    |ca             |null           |cactus club cafe stephen ave                                 |14034549399 |null          |null                   |null       |178 - 317 7th avenue southwest stephen ave +, 3 st sw · in core shopping centre|0.9024220705032349|restaurants                                |\n",
      "|bellefleurphysio.com           |3095 st joseph blvd, k1e 3w6, orleans, on, canada, ontario                                      |orleans                 |ca             |canada         |bellefleur physiotherapy orléans                            |16134247852|on            |ontario                |k1e 3w6    |bellefleurphysio.com           |3095 st joseph blvd, orléans, on k1e 3w6, canada                               |orleans                 |ca             |canada         |bellefleur physiotherapy                                     |16134247852 |on            |ontario                |k1e 3w6    |orléans, on, canada · in orleans town centre                                   |0.9024767279624939|physical therapy & sports medicine         |\n",
      "|trendingsalon.com              |1767 hamilton st, s4p 2b4, regina, sk, canada, saskatchewan                                     |regina                  |ca             |canada         |downtown nail spa inc                                       |13065690001|sk            |saskatchewan           |s4p 2b4    |trendingsalon.com              |1767 hamilton st, regina, sk s4p 2b4, canada                                   |regina                  |ca             |canada         |downtown nail spa                                            |13065690001 |sk            |saskatchewan           |s4p 2b4    |5+ years in business · 1767 hamilton st                                        |0.9025322198867798|beauty salons                              |\n",
      "|renodiocese.org                |null                                                                                            |null                    |null           |null           |diocese of reno                                             |null       |null          |null                   |null       |renodiocese.org                |290 s arlington ave, reno, nv 89501, united states                             |reno                    |us             |united states  |diocese of reno offices                                      |17753269410 |nv            |nevada                 |89501      |reno, nv, united states                                                        |0.9025734663009644|religious organizations & churches         |\n",
      "|holidayford.com                |1555 lansdowne st, k9j 7m3, peterborough, on, canada, ontario                                   |peterborough            |ca             |canada         |holiday ford lincoln                                        |17057425432|on            |ontario                |k9j 7m3    |holidayford.com                |1555 lansdowne st, peterborough, on k9j 7m3, canada                            |peterborough            |ca             |canada         |holiday ford lincoln ltd.                                    |17057425432 |on            |ontario                |k9j 7m3    |7+ years in business · 1555 lansdowne st                                       |0.9025887250900269|manufacturers & automobile dealers         |\n",
      "+-------------------------------+------------------------------------------------------------------------------------------------+------------------------+---------------+---------------+------------------------------------------------------------+-----------+--------------+-----------------------+-----------+-------------------------------+-------------------------------------------------------------------------------+------------------------+---------------+---------------+-------------------------------------------------------------+------------+--------------+-----------------------+-----------+-------------------------------------------------------------------------------+------------------+-------------------------------------------+\n",
      "only showing top 100 rows\n",
      "\n"
     ]
    },
    {
     "name": "stderr",
     "output_type": "stream",
     "text": [
      "                                                                                \r"
     ]
    }
   ],
   "source": [
    "grouped_df.filter(F.col(\"vector\") > 0.90).sort(F.col(\"vector\")).show(100, truncate=False)"
   ]
  },
  {
   "cell_type": "code",
   "execution_count": null,
   "metadata": {},
   "outputs": [
    {
     "name": "stdout",
     "output_type": "stream",
     "text": [
      "23/10/29 07:45:56 WARN TaskSetManager: Stage 44 contains a task of very large size (1159 KiB). The maximum recommended task size is 1000 KiB.\n"
     ]
    },
    {
     "name": "stderr",
     "output_type": "stream",
     "text": [
      "[Stage 44:=====================================>                  (16 + 8) / 24]\r"
     ]
    },
    {
     "name": "stdout",
     "output_type": "stream",
     "text": [
      "+--------------------+--------------------+--------------------+---------------+---------------+--------------------+-----------+--------------+--------------+-----------+--------------------+--------------------+--------------------+--------------------+--------------------+---------------+---------------+--------------------+-----------+--------------+---------------+-----------+--------------------+------------------+\n",
      "|           fb_domain|          fb_address|             fb_city|fb_country_code|fb_country_name|             fb_name|   fb_phone|fb_region_code|fb_region_name|fb_zip_code|         fb_category|           gg_domain|          gg_address|         gg_category|             gg_city|gg_country_code|gg_country_name|             gg_name|   gg_phone|gg_region_code| gg_region_name|gg_zip_code|      gg_raw_address|            vector|\n",
      "+--------------------+--------------------+--------------------+---------------+---------------+--------------------+-----------+--------------+--------------+-----------+--------------------+--------------------+--------------------+--------------------+--------------------+---------------+---------------+--------------------+-----------+--------------+---------------+-----------+--------------------+------------------+\n",
      "| placeversailles.com|7275, rue sherbro...|                null|             ca|           null|    place versailles|15143535940|          null|          null|       null|               malls| placeversailles.com|7275 sherbrooke st e|               malls|                null|             ca|           null|    place versailles|15143535940|          null|           null|       null|7275 sherbrooke st e|0.9999999403953552|\n",
      "|   b-architecture.ca|                null|                null|             ca|           null|      b architecture|15817487398|          null|          null|       null|architectural ser...|   b-architecture.ca|325 5e rue, québe...|architectural ser...|              quebec|             ca|         canada|      b architecture|15817487398|            qc|         quebec|    g1l 2r8|quebec city, queb...|               1.0|\n",
      "|             dbti.ca|701 rossland rd.,...|              whitby|             ca|         canada|durham basement t...|19056651585|            on|       ontario|    l1n 9k3|          demolition|             dbti.ca|701 rossland rd e...|          demolition|              whitby|             ca|         canada|durham basement t...|19056651585|            on|        ontario|    l1n 9k3|7+ years in busin...|0.9931015372276306|\n",
      "|        lenscove.com|1 water st., k0g ...|                null|             ca|           null|   len's cove marina|16132722581|          null|          null|       null|               boats|        lenscove.com|portland, on, canada|               boats|                null|             ca|           null|   len's cove marina|16132722581|          null|           null|       null|portland, on, canada|1.0000001192092896|\n",
      "| jadorebeautybar.com|329a elgin street...|              ottawa|             ca|         canada|j'adore beauty ba...|16136803900|            on|       ontario|       null|    wellness centers| jadorebeautybar.com|329a elgin st, ot...|    wellness centers|              ottawa|             ca|         canada|j'adore beauty ba...|16136803900|            on|        ontario|    k2p 1m5|       329a elgin st|0.9936244487762451|\n",
      "|riversidefuneralh...|401 albert street...|                null|             ca|           null|riverside funeral...|15198876336|          null|          null|       null|          cemeteries|riversidefuneralh...|7+ years in busin...|          cemeteries|            brussels|             ca|         canada|riverside funeral...|15198876336|            on|        ontario|       null|7+ years in busin...|0.9071321487426758|\n",
      "|monarchelectrical.ca|stony plain, t7z ...|         stony plain|             ca|         canada|monarch electrica...|17802719643|            ab|       alberta|    t7z 2z4|          electrical|monarchelectrical.ca|1167 westerra lin...|          electrical|         stony plain|             ca|         canada|monarch electrica...|17802719643|            ab|        alberta|    t7z 2z4|3+ years in busin...|0.8956223726272583|\n",
      "|     allthatdance.ca|630 magnetic dr, ...|                null|             ca|           null|      all that dance|14166631212|          null|          null|       null|       dance studios|     allthatdance.ca|630 magnetic dr, ...|       dance studios|          north york|             ca|         canada|      all that dance|14166631212|            on|        ontario|    m3j 2c4|north york, on, c...|0.9999999403953552|\n",
      "|sturgeoncountyken...|56124 rr 241, t0a...|            edmonton|             ca|         canada|sturgeon county k...|17809213336|            ab|       alberta|       null|             sitting|sturgeoncountyken...|15+ years in busi...|             sitting|                null|             ca|           null|sturgeon county k...|17809213336|          null|           null|       null|15+ years in busi...|1.0000001192092896|\n",
      "|peterpageholden.c...|                null|                null|             au|           null|   peter page holden|61882562600|          null|          null|       null|       manufacturers|peterpageholden.c...|17 elizabeth way,...|       manufacturers|           elizabeth|             au|      australia|   peter page holden|61882562600|            sa|south australia|       5112|elizabeth sa, aus...|1.0000001192092896|\n",
      "|    pinecrestmtl.com|                null|                null|             ca|           null| enseignes pinecrest|15148423601|          null|          null|       null|               signs|    pinecrestmtl.com|                null|               signs|                null|             ca|           null| enseignes pinecrest|15148423601|          null|           null|       null|                null|0.9999999403953552|\n",
      "| thepoolmechanix.com|                null|                null|             ca|           null|       pool mechanix|15198617665|          null|          null|       null|               pools| thepoolmechanix.com|                null|               pools|                null|             ca|           null|   pool mechanix ltd|15198617665|          null|           null|       null|                null|0.8519206643104553|\n",
      "|personaltouchcate...|1135 lansdowne st...|        peterborough|             ca|         canada|personal touch ca...|17058748259|            on|       ontario|     k9j7m2|            catering|personaltouchcate...|7+ years in busin...|            catering|                null|             ca|           null|personal touch ca...|17058748259|          null|           null|       null|7+ years in busin...|1.0000001192092896|\n",
      "|      calstatela.edu|5151 state univer...|         los angeles|             us|  united states|california state ...|13233433000|            ca|    california|      90032|        universities|      calstatela.edu|5151 state univer...|        universities|         los angeles|             us|  united states|california state ...|13233433000|            ca|     california|      90032|     los angeles, ca|0.9999998807907104|\n",
      "|     westmountvet.ca|1609a kensington ...|             calgary|             ca|         canada|westmount animal ...|14032833354|            ab|       alberta|    t2n 3r2|       veterinarians|     westmountvet.ca|1609 kensington r...|       veterinarians|             calgary|             ca|         canada|westmount animal ...|14032833354|            ab|        alberta|    t2n 3r2|7+ years in busin...|               1.0|\n",
      "|     insightpest.com|22 antares dr, k2...|                null|             ca|           null|insight pest solu...|16134820458|          null|          null|       null|       pest services|     insightpest.com|22 antares dr, ne...|       pest services|              nepean|             ca|         canada|insight pest solu...|16134820458|            on|        ontario|    k2e 7z6|  nepean, on, canada|0.9703167080879211|\n",
      "| miragecreations.com|221 victoria st, ...|             toronto|             ca|         canada|    mirage creations|14163669595|            on|       ontario|    m5b 1v4|      jewelry stores| miragecreations.com|221 victoria st, ...|      jewelry stores|             toronto|             ca|         canada|    mirage creations|14163669595|            on|        ontario|    m5b 1v4|221 victoria st ·...|               1.0|\n",
      "|  consolekiller.tech|630 2nd street, 9...|             langley|             us|  united states|         holodeck vr|13604668736|            wa|    washington|      98260|     amusement parks|  consolekiller.tech|630 second street...|     amusement parks|             langley|           null|  united states|         holodeck vr|13604668736|            wa|     washington|      98260|   630 second street|0.9999999403953552|\n",
      "|     dulacetfils.com|1630, 20e avenue,...|region de beauce ...|             ca|         canada|dulac & fils cie ...|14185948211|            qc|        quebec|    g0m 1y0|             asphalt|     dulacetfils.com|1630 20e av, sain...|             asphalt|region de beauce ...|             ca|         canada|dulac & fils cie ...|14185948211|            qc|         quebec|    g0m 1y0|7+ years in busin...|0.9999998807907104|\n",
      "|   smdaccounting.com|8765 stockard dr ...|              frisco|             us|  united states|smd consulting an...|14692524547|            tx|         texas|      75034|bookkeeping services|   smdaccounting.com|8765 stockard dr ...|bookkeeping services|              frisco|             us|  united states|smd consulting & ...|14692524547|            tx|          texas|      75034|15+ years in busi...|0.9933921098709106|\n",
      "+--------------------+--------------------+--------------------+---------------+---------------+--------------------+-----------+--------------+--------------+-----------+--------------------+--------------------+--------------------+--------------------+--------------------+---------------+---------------+--------------------+-----------+--------------+---------------+-----------+--------------------+------------------+\n",
      "only showing top 20 rows\n",
      "\n"
     ]
    },
    {
     "name": "stderr",
     "output_type": "stream",
     "text": [
      "                                                                                \r"
     ]
    }
   ],
   "source": [
    "df_vec_cat_phone.unionByName(df_vec_cat_dom).unionByName(df_vec).distinct().show()\n"
   ]
  },
  {
   "cell_type": "code",
   "execution_count": null,
   "metadata": {},
   "outputs": [],
   "source": [
    "# df_vec.filter(F.col(\"vector\") > 0.95).count()"
   ]
  },
  {
   "cell_type": "code",
   "execution_count": null,
   "metadata": {},
   "outputs": [
    {
     "name": "stderr",
     "output_type": "stream",
     "text": [
      "                                                                                \r"
     ]
    },
    {
     "name": "stdout",
     "output_type": "stream",
     "text": [
      "fb_phone 49451460947\n"
     ]
    },
    {
     "name": "stderr",
     "output_type": "stream",
     "text": [
      "                                                                                \r"
     ]
    },
    {
     "name": "stdout",
     "output_type": "stream",
     "text": [
      "fb_domain 84346289212\n"
     ]
    },
    {
     "name": "stderr",
     "output_type": "stream",
     "text": [
      "                                                                                \r"
     ]
    },
    {
     "name": "stdout",
     "output_type": "stream",
     "text": [
      "fb_country_name 33229118656\n"
     ]
    },
    {
     "name": "stderr",
     "output_type": "stream",
     "text": [
      "                                                                                \r"
     ]
    },
    {
     "name": "stdout",
     "output_type": "stream",
     "text": [
      "fb_region_name 41575495484\n"
     ]
    },
    {
     "name": "stderr",
     "output_type": "stream",
     "text": [
      "                                                                                \r"
     ]
    },
    {
     "name": "stdout",
     "output_type": "stream",
     "text": [
      "fb_country_code 42078913365\n"
     ]
    },
    {
     "name": "stderr",
     "output_type": "stream",
     "text": [
      "                                                                                \r"
     ]
    },
    {
     "name": "stdout",
     "output_type": "stream",
     "text": [
      "fb_region_code 41567425988\n"
     ]
    },
    {
     "name": "stderr",
     "output_type": "stream",
     "text": [
      "                                                                                \r"
     ]
    },
    {
     "name": "stdout",
     "output_type": "stream",
     "text": [
      "fb_category 76588187075\n"
     ]
    },
    {
     "name": "stderr",
     "output_type": "stream",
     "text": [
      "                                                                                \r"
     ]
    },
    {
     "name": "stdout",
     "output_type": "stream",
     "text": [
      "fb_city 44559004931\n"
     ]
    },
    {
     "name": "stderr",
     "output_type": "stream",
     "text": [
      "[Stage 36:=================================================>        (6 + 1) / 7]\r"
     ]
    },
    {
     "name": "stdout",
     "output_type": "stream",
     "text": [
      "fb_zip_code 31156369283\n"
     ]
    },
    {
     "name": "stderr",
     "output_type": "stream",
     "text": [
      "                                                                                \r"
     ]
    }
   ],
   "source": [
    "print(\"fb_phone\", cross.filter(F.col(\"fb_phone\").isNotNull() & F.col(\"gg_phone\").isNotNull() & (F.col(\"fb_phone\") != F.col(\"gg_phone\"))).count())\n",
    "\n",
    "print(\"fb_domain\", cross.filter(F.col(\"fb_domain\").isNotNull() & F.col(\"gg_domain\").isNotNull() & (F.col(\"fb_domain\") != F.col(\"gg_domain\"))).count())\n",
    "\n",
    "print(\"fb_country_name\", cross.filter(F.col(\"fb_country_name\").isNotNull() & F.col(\"gg_country_name\").isNotNull() & (F.col(\"fb_country_name\") != F.col(\"gg_country_name\"))).count())\n",
    "\n",
    "print(\"fb_region_name\", cross.filter(F.col(\"fb_region_name\").isNotNull() & F.col(\"gg_region_name\").isNotNull() & (F.col(\"fb_region_name\") != F.col(\"gg_region_name\"))).count())\n",
    "\n",
    "print(\"fb_country_code\", cross.filter(F.col(\"fb_country_code\").isNotNull() & F.col(\"gg_country_code\").isNotNull() & (F.col(\"fb_country_code\") != F.col(\"gg_country_code\"))).count())\n",
    "\n",
    "print(\"fb_region_code\", cross.filter(F.col(\"fb_region_code\").isNotNull() & F.col(\"gg_region_code\").isNotNull() & (F.col(\"fb_region_code\") != F.col(\"gg_region_code\"))).count())\n",
    "\n",
    "print(\"fb_category\", cross.filter(F.col(\"fb_category\").isNotNull() & F.col(\"gg_category\").isNotNull() & (F.col(\"fb_category\") != F.col(\"gg_category\"))).count())\n",
    "\n",
    "print(\"fb_city\", cross.filter(F.col(\"fb_city\").isNotNull() & F.col(\"gg_city\").isNotNull() & (F.col(\"fb_city\") != F.col(\"gg_city\"))).count())\n",
    "\n",
    "print(\"fb_zip_code\", cross.filter(F.col(\"fb_zip_code\").isNotNull() & F.col(\"gg_zip_code\").isNotNull() & (F.col(\"fb_zip_code\") != F.col(\"gg_zip_code\"))).count())"
   ]
  }
 ],
 "metadata": {
  "kernelspec": {
   "display_name": "gx",
   "language": "python",
   "name": "python3"
  },
  "language_info": {
   "codemirror_mode": {
    "name": "ipython",
    "version": 3
   },
   "file_extension": ".py",
   "mimetype": "text/x-python",
   "name": "python",
   "nbconvert_exporter": "python",
   "pygments_lexer": "ipython3",
   "version": "3.10.10"
  }
 },
 "nbformat": 4,
 "nbformat_minor": 2
}
